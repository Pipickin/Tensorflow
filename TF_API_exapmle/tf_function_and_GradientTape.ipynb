{
  "nbformat": 4,
  "nbformat_minor": 0,
  "metadata": {
    "colab": {
      "name": "tf.function and GradientTape.ipynb",
      "provenance": [],
      "collapsed_sections": [
        "qJasoNyz-Daq",
        "WlfPQTOG-zOk",
        "3wqXPd-h-5By",
        "2DwPlY-eiQ4x",
        "gVSg9OTVOYLp",
        "X4JNuVfDqzkw"
      ],
      "authorship_tag": "ABX9TyNAHg9C+JQXkRR0xs+rzO91",
      "include_colab_link": true
    },
    "kernelspec": {
      "name": "python3",
      "display_name": "Python 3"
    },
    "accelerator": "GPU"
  },
  "cells": [
    {
      "cell_type": "markdown",
      "metadata": {
        "id": "view-in-github",
        "colab_type": "text"
      },
      "source": [
        "<a href=\"https://colab.research.google.com/github/Pipickin/Tensorflow/blob/main/TF_API_exapmle/tf_function_and_GradientTape.ipynb\" target=\"_parent\"><img src=\"https://colab.research.google.com/assets/colab-badge.svg\" alt=\"Open In Colab\"/></a>"
      ]
    },
    {
      "cell_type": "code",
      "metadata": {
        "id": "CiIv6pjlzgxL"
      },
      "source": [
        "import tensorflow as tf"
      ],
      "execution_count": null,
      "outputs": []
    },
    {
      "cell_type": "markdown",
      "metadata": {
        "id": "qJasoNyz-Daq"
      },
      "source": [
        "#def tf.function"
      ]
    },
    {
      "cell_type": "code",
      "metadata": {
        "id": "JVWvzfBXzm0m"
      },
      "source": [
        "c1 = tf.constant([1,2,3])\n",
        "c2 = tf.constant([-2,3,-2])"
      ],
      "execution_count": null,
      "outputs": []
    },
    {
      "cell_type": "code",
      "metadata": {
        "id": "Qn4AfC8f02Zm"
      },
      "source": [
        "@tf.function\n",
        "def f(x):\n",
        "  if tf.reduce_sum(x)>0:\n",
        "    return x**2\n",
        "  else:\n",
        "    return x**3"
      ],
      "execution_count": null,
      "outputs": []
    },
    {
      "cell_type": "code",
      "metadata": {
        "id": "MvVOw-jaaJ2u",
        "colab": {
          "base_uri": "https://localhost:8080/"
        },
        "outputId": "af4c9cc8-6171-4a7f-bb5c-36320840b578"
      },
      "source": [
        "def just_f(x):\n",
        "  if tf.reduce_sum(x)>0:\n",
        "    return x**2\n",
        "  else:\n",
        "    return x**3\n",
        "print(just_f(c1))\n",
        "print(just_f(c2))  "
      ],
      "execution_count": null,
      "outputs": [
        {
          "output_type": "stream",
          "text": [
            "tf.Tensor([1 4 9], shape=(3,), dtype=int32)\n",
            "tf.Tensor([-8 27 -8], shape=(3,), dtype=int32)\n"
          ],
          "name": "stdout"
        }
      ]
    },
    {
      "cell_type": "code",
      "metadata": {
        "id": "ndLJ3HF0020n",
        "colab": {
          "base_uri": "https://localhost:8080/"
        },
        "outputId": "a54bd990-eda6-4289-dcdd-748d4b54b420"
      },
      "source": [
        "print(f(c1))\n",
        "print(f(c2))"
      ],
      "execution_count": null,
      "outputs": [
        {
          "output_type": "stream",
          "text": [
            "tf.Tensor([1 4 9], shape=(3,), dtype=int32)\n",
            "tf.Tensor([-8 27 -8], shape=(3,), dtype=int32)\n"
          ],
          "name": "stdout"
        }
      ]
    },
    {
      "cell_type": "code",
      "metadata": {
        "id": "1o1F0Cmw1Vck"
      },
      "source": [
        "@tf.function\n",
        "def f1(x):\n",
        "  for i in x:\n",
        "    if i>0:\n",
        "      print('+')\n",
        "    else:\n",
        "      print('-')"
      ],
      "execution_count": null,
      "outputs": []
    },
    {
      "cell_type": "code",
      "metadata": {
        "id": "i39G-9C71pZe",
        "colab": {
          "base_uri": "https://localhost:8080/"
        },
        "outputId": "cf6332cc-e465-4c86-ceda-6d0fe8db5f68"
      },
      "source": [
        "f1(c1)"
      ],
      "execution_count": null,
      "outputs": [
        {
          "output_type": "stream",
          "text": [
            "+\n",
            "-\n"
          ],
          "name": "stdout"
        }
      ]
    },
    {
      "cell_type": "code",
      "metadata": {
        "id": "T9ny14PA17yt",
        "colab": {
          "base_uri": "https://localhost:8080/"
        },
        "outputId": "626af586-02aa-4ae2-9a35-e54c3f760c01"
      },
      "source": [
        "for i in c1:\n",
        "  print(i.numpy)"
      ],
      "execution_count": null,
      "outputs": [
        {
          "output_type": "stream",
          "text": [
            "<bound method _EagerTensorBase.numpy of <tf.Tensor: shape=(), dtype=int32, numpy=1>>\n",
            "<bound method _EagerTensorBase.numpy of <tf.Tensor: shape=(), dtype=int32, numpy=2>>\n",
            "<bound method _EagerTensorBase.numpy of <tf.Tensor: shape=(), dtype=int32, numpy=3>>\n"
          ],
          "name": "stdout"
        }
      ]
    },
    {
      "cell_type": "code",
      "metadata": {
        "id": "g15-I0Fe2XtR",
        "colab": {
          "base_uri": "https://localhost:8080/"
        },
        "outputId": "070a0209-52f1-472a-f51e-a0892d4751fa"
      },
      "source": [
        "l = []\n",
        "@tf.function\n",
        "def f(x):\n",
        "  for i in x:\n",
        "    l.append(i + 1)    # Caution! Will only happen once when tracing\n",
        "f(tf.constant([1, 2, 3]))\n",
        "l"
      ],
      "execution_count": null,
      "outputs": [
        {
          "output_type": "execute_result",
          "data": {
            "text/plain": [
              "[<tf.Tensor 'while/add:0' shape=() dtype=int32>]"
            ]
          },
          "metadata": {
            "tags": []
          },
          "execution_count": 31
        }
      ]
    },
    {
      "cell_type": "code",
      "metadata": {
        "id": "DxAGET0w2wkI"
      },
      "source": [
        "@tf.function \n",
        "def sum_c1_and_c2():\n",
        "  return c1+c2"
      ],
      "execution_count": null,
      "outputs": []
    },
    {
      "cell_type": "code",
      "metadata": {
        "id": "DVbw5zwu3oSQ",
        "colab": {
          "base_uri": "https://localhost:8080/"
        },
        "outputId": "20aef8ef-cda3-40fb-d1bd-10adaa7ac9fd"
      },
      "source": [
        "sum_c1_and_c2()"
      ],
      "execution_count": null,
      "outputs": [
        {
          "output_type": "execute_result",
          "data": {
            "text/plain": [
              "<tf.Tensor: shape=(3,), dtype=int32, numpy=array([-1,  5,  1], dtype=int32)>"
            ]
          },
          "metadata": {
            "tags": []
          },
          "execution_count": 33
        }
      ]
    },
    {
      "cell_type": "code",
      "metadata": {
        "id": "JTMLY4oQ6kHm"
      },
      "source": [
        "@tf.function\n",
        "def create_c3():\n",
        "  c3 = tf.constant([1,2,3,4,5])\n",
        "  tf.print(c3)\n",
        "  return c3"
      ],
      "execution_count": null,
      "outputs": []
    },
    {
      "cell_type": "code",
      "metadata": {
        "id": "g5j9mYRw7lKn",
        "colab": {
          "base_uri": "https://localhost:8080/"
        },
        "outputId": "10025b79-b10a-4852-a32f-8e0b156de9a0"
      },
      "source": [
        "c3 = create_c3()"
      ],
      "execution_count": null,
      "outputs": [
        {
          "output_type": "stream",
          "text": [
            "[1 2 3 4 5]\n"
          ],
          "name": "stdout"
        }
      ]
    },
    {
      "cell_type": "markdown",
      "metadata": {
        "id": "WlfPQTOG-zOk"
      },
      "source": [
        "# assign to variable"
      ]
    },
    {
      "cell_type": "code",
      "metadata": {
        "id": "4EYoZ1ZU7wgY",
        "colab": {
          "base_uri": "https://localhost:8080/"
        },
        "outputId": "ddacf6c7-e7fb-449f-d647-16571262b336"
      },
      "source": [
        "var1 = tf.Variable(1)\n",
        "tf.print(var1)\n",
        "var1.assign(2)\n",
        "tf.print(var1)\n",
        "var1.assign_add(2)\n",
        "tf.print(var1)"
      ],
      "execution_count": null,
      "outputs": [
        {
          "output_type": "stream",
          "text": [
            "1\n",
            "2\n",
            "4\n"
          ],
          "name": "stdout"
        }
      ]
    },
    {
      "cell_type": "code",
      "metadata": {
        "id": "meIJrn3j7__L",
        "colab": {
          "base_uri": "https://localhost:8080/"
        },
        "outputId": "7a3cfbbb-aa54-462b-9715-b4ae311def74"
      },
      "source": [
        "var2 = tf.Variable([1,2])\n",
        "tf.print(var2)\n",
        "var2.assign([3,1])\n",
        "tf.print(var2)"
      ],
      "execution_count": null,
      "outputs": [
        {
          "output_type": "stream",
          "text": [
            "[1 2]\n",
            "[3 1]\n"
          ],
          "name": "stdout"
        }
      ]
    },
    {
      "cell_type": "code",
      "metadata": {
        "id": "9Fehf_NJ9Ou3",
        "colab": {
          "base_uri": "https://localhost:8080/"
        },
        "outputId": "8a1a845a-b37a-40fb-c9b5-a5ff1c025c10"
      },
      "source": [
        "mat1 = tf.Variable([[1,2]])\n",
        "mat2 = tf.constant([[10]])\n",
        "tf.matmul(mat2,mat1)"
      ],
      "execution_count": null,
      "outputs": [
        {
          "output_type": "execute_result",
          "data": {
            "text/plain": [
              "<tf.Tensor: shape=(1, 2), dtype=int32, numpy=array([[10, 20]], dtype=int32)>"
            ]
          },
          "metadata": {
            "tags": []
          },
          "execution_count": 73
        }
      ]
    },
    {
      "cell_type": "markdown",
      "metadata": {
        "id": "3wqXPd-h-5By"
      },
      "source": [
        "# GradientTape "
      ]
    },
    {
      "cell_type": "code",
      "metadata": {
        "id": "AN_Pf21F_YKa",
        "colab": {
          "base_uri": "https://localhost:8080/"
        },
        "outputId": "363fd221-9ea0-4755-84c2-e71cf56ecc19"
      },
      "source": [
        "x = tf.Variable(5.0) # here could be a tf.constant instead of Variabe\n",
        "with tf.GradientTape() as g:\n",
        "  g.watch(x)\n",
        "  y = x**2\n",
        "tf.print(x)\n",
        "tf.print(y)\n",
        "dy_dx = g.gradient(y,x)\n",
        "tf.print(dy_dx)"
      ],
      "execution_count": null,
      "outputs": [
        {
          "output_type": "stream",
          "text": [
            "5\n",
            "25\n",
            "10\n"
          ],
          "name": "stdout"
        }
      ]
    },
    {
      "cell_type": "code",
      "metadata": {
        "id": "zRMzaTaeCdH7",
        "colab": {
          "base_uri": "https://localhost:8080/"
        },
        "outputId": "3adde23c-88c8-4459-eb23-3d657da2ec70"
      },
      "source": [
        "x = tf.Variable(5.0)\n",
        "with tf.GradientTape() as g:\n",
        "  g.watch(x)\n",
        "  with tf.GradientTape() as gg:\n",
        "    gg.watch(x)\n",
        "    y = x*x\n",
        "  dy_dx = gg.gradient(y,x)\n",
        "d2y_dx2 = g.gradient(dy_dx,x)\n",
        "tf.print(x)\n",
        "tf.print(y)\n",
        "tf.print(dy_dx)\n",
        "tf.print(d2y_dx2)"
      ],
      "execution_count": null,
      "outputs": [
        {
          "output_type": "stream",
          "text": [
            "5\n",
            "25\n",
            "10\n",
            "2\n"
          ],
          "name": "stdout"
        }
      ]
    },
    {
      "cell_type": "code",
      "metadata": {
        "id": "1AugsgBSEGGy",
        "colab": {
          "base_uri": "https://localhost:8080/"
        },
        "outputId": "0ba3e4f9-959f-4b84-8414-488419bbad0c"
      },
      "source": [
        "x = tf.constant(8.0)\n",
        "with tf.GradientTape(persistent=True) as g:\n",
        "  g.watch(x)\n",
        "  y = x*x\n",
        "  z = x*x*x\n",
        "  t = y*y \n",
        "dy_dx = g.gradient(y, x)\n",
        "dz_dx = g.gradient(z,x)\n",
        "dt_dz = g.gradient(t,y)\n",
        "tf.print(dy_dx)\n",
        "tf.print(dz_dx)\n",
        "tf.print(dt_dz)\n",
        "del g"
      ],
      "execution_count": null,
      "outputs": [
        {
          "output_type": "stream",
          "text": [
            "16\n",
            "192\n",
            "128\n"
          ],
          "name": "stdout"
        }
      ]
    },
    {
      "cell_type": "code",
      "metadata": {
        "id": "KKPogcPbG0J7",
        "colab": {
          "base_uri": "https://localhost:8080/"
        },
        "outputId": "7557410e-83ae-4a7a-dcf2-70b20f3017f5"
      },
      "source": [
        "x = tf.constant([[1.,2.],[3.,4.]])\n",
        "with tf.GradientTape() as g:\n",
        "  g.watch(x)\n",
        "  y = x*x\n",
        "jacob = g.batch_jacobian(y,x)\n",
        "tf.print(x)\n",
        "tf.print(y)\n",
        "tf.print(jacob)"
      ],
      "execution_count": null,
      "outputs": [
        {
          "output_type": "stream",
          "text": [
            "WARNING:tensorflow:5 out of the last 5 calls to <function pfor.<locals>.f at 0x7f5bd06ae268> triggered tf.function retracing. Tracing is expensive and the excessive number of tracings could be due to (1) creating @tf.function repeatedly in a loop, (2) passing tensors with different shapes, (3) passing Python objects instead of tensors. For (1), please define your @tf.function outside of the loop. For (2), @tf.function has experimental_relax_shapes=True option that relaxes argument shapes that can avoid unnecessary retracing. For (3), please refer to https://www.tensorflow.org/tutorials/customization/performance#python_or_tensor_args and https://www.tensorflow.org/api_docs/python/tf/function for  more details.\n",
            "[[1 2]\n",
            " [3 4]]\n",
            "[[1 4]\n",
            " [9 16]]\n",
            "[[[2 0]\n",
            "  [0 4]]\n",
            "\n",
            " [[6 0]\n",
            "  [0 8]]]\n"
          ],
          "name": "stdout"
        }
      ]
    },
    {
      "cell_type": "code",
      "metadata": {
        "id": "SE1miSovIzzN",
        "colab": {
          "base_uri": "https://localhost:8080/"
        },
        "outputId": "c7e261da-8c54-42c4-d12a-5a2eaab4a4c4"
      },
      "source": [
        "with tf.GradientTape(persistent=True) as tape:\n",
        "  trainable = tf.Variable(1.)\n",
        "  non_trainable = tf.Variable(2., trainable=False)\n",
        "  x1 = trainable * 2.\n",
        "  x2 = non_trainable * 3.\n",
        "tf.print(tape.gradient(x1, trainable))\n",
        "\n",
        "tf.print(tape.gradient(x2, non_trainable))"
      ],
      "execution_count": null,
      "outputs": [
        {
          "output_type": "stream",
          "text": [
            "2\n",
            "None\n"
          ],
          "name": "stdout"
        }
      ]
    },
    {
      "cell_type": "code",
      "metadata": {
        "id": "DaA-e9iyJkjt"
      },
      "source": [
        ""
      ],
      "execution_count": null,
      "outputs": []
    },
    {
      "cell_type": "markdown",
      "metadata": {
        "id": "yPSUOeAjMvzl"
      },
      "source": [
        "# Eager execution\n",
        "\n"
      ]
    },
    {
      "cell_type": "markdown",
      "metadata": {
        "id": "2DwPlY-eiQ4x"
      },
      "source": [
        "## fizzbuzz\n"
      ]
    },
    {
      "cell_type": "code",
      "metadata": {
        "id": "ncuN4_aJM1w5"
      },
      "source": [
        "def fizzbuzz(max_number:int)->None:\n",
        "  counter = tf.constant(0)\n",
        "  max_number = tf.convert_to_tensor(max_number)\n",
        "  for num in range(1, max_number+1):\n",
        "    num = tf.constant(num)\n",
        "    if num%3==0 and num%5==0:\n",
        "      print('fizzbuzz')\n",
        "    elif num%3==0:\n",
        "      print('fizz')\n",
        "    elif num%5==0:\n",
        "      print('buzz')\n",
        "    else:\n",
        "      print(num.numpy())\n",
        "    counter +=1"
      ],
      "execution_count": null,
      "outputs": []
    },
    {
      "cell_type": "code",
      "metadata": {
        "id": "OXWTCDBGOCaA",
        "colab": {
          "base_uri": "https://localhost:8080/"
        },
        "outputId": "b178006c-32b8-4388-838f-45bdb30e2fef"
      },
      "source": [
        "fizzbuzz(16)"
      ],
      "execution_count": null,
      "outputs": [
        {
          "output_type": "stream",
          "text": [
            "1\n",
            "2\n",
            "fizz\n",
            "4\n",
            "buzz\n",
            "fizz\n",
            "7\n",
            "8\n",
            "fizz\n",
            "buzz\n",
            "11\n",
            "fizz\n",
            "13\n",
            "14\n",
            "fizzbuzz\n",
            "16\n"
          ],
          "name": "stdout"
        }
      ]
    },
    {
      "cell_type": "markdown",
      "metadata": {
        "id": "gVSg9OTVOYLp"
      },
      "source": [
        "## simple model"
      ]
    },
    {
      "cell_type": "code",
      "metadata": {
        "id": "u45480lSTUYm",
        "colab": {
          "base_uri": "https://localhost:8080/"
        },
        "outputId": "b27a703f-0204-4865-c49f-4389fa3d75d7"
      },
      "source": [
        "(mnist_images,mnist_labels),_ = tf.keras.datasets.mnist.load_data()\n",
        "\n",
        "dataset = tf.data.Dataset.from_tensor_slices((\n",
        "    tf.cast(mnist_images[...,tf.newaxis]/255, tf.float32),\n",
        "    tf.cast(mnist_labels, tf.int64)))\n",
        "\n",
        "dataset = dataset.shuffle(1000).batch(32)"
      ],
      "execution_count": null,
      "outputs": [
        {
          "output_type": "stream",
          "text": [
            "Downloading data from https://storage.googleapis.com/tensorflow/tf-keras-datasets/mnist.npz\n",
            "11493376/11490434 [==============================] - 0s 0us/step\n"
          ],
          "name": "stdout"
        }
      ]
    },
    {
      "cell_type": "code",
      "metadata": {
        "id": "NMQka-2_prBT",
        "colab": {
          "base_uri": "https://localhost:8080/"
        },
        "outputId": "a5868108-799e-4a8d-8a90-c562ddd5ea77"
      },
      "source": [
        "print(mnist_images.shape)\n",
        "print(dataset)"
      ],
      "execution_count": null,
      "outputs": [
        {
          "output_type": "stream",
          "text": [
            "(60000, 28, 28)\n",
            "<BatchDataset shapes: ((None, 28, 28, 1), (None,)), types: (tf.float32, tf.int64)>\n"
          ],
          "name": "stdout"
        }
      ]
    },
    {
      "cell_type": "code",
      "metadata": {
        "id": "P4oS7GuxUHmF"
      },
      "source": [
        "mnist_model = tf.keras.Sequential([\n",
        "                             tf.keras.layers.Conv2D(16,[3,3],activation='relu', \n",
        "                                                    input_shape=(None,None,1)),\n",
        "                             tf.keras.layers.Conv2D(16,[3,3], activation='relu'),\n",
        "                             tf.keras.layers.GlobalAveragePooling2D(),\n",
        "                             tf.keras.layers.Dense(10)])"
      ],
      "execution_count": null,
      "outputs": []
    },
    {
      "cell_type": "code",
      "metadata": {
        "id": "Qq5jMvoBUsF7",
        "colab": {
          "base_uri": "https://localhost:8080/"
        },
        "outputId": "32ef33e9-2e54-4542-8f51-11949dce2746"
      },
      "source": [
        "for images,labels in dataset.take(1):\n",
        "  print(images.shape)\n",
        "  \n",
        "  print(images[0:1].shape)\n",
        "  print(\"Logits: \", mnist_model(images[:]).numpy())"
      ],
      "execution_count": null,
      "outputs": [
        {
          "output_type": "stream",
          "text": [
            "(32, 28, 28, 1)\n",
            "(1, 28, 28, 1)\n",
            "Logits:  [[ 3.83057399e-03 -1.75341517e-02  9.33981035e-03 -3.63305919e-02\n",
            "   3.10313632e-03  1.97534971e-02 -1.64488517e-02 -6.21081926e-02\n",
            "   2.23868545e-02 -1.53865945e-02]\n",
            " [ 5.25634876e-03 -2.29520760e-02  1.07724434e-02 -3.96600366e-02\n",
            "  -1.36197079e-03  2.24576965e-02 -1.86253190e-02 -6.80960715e-02\n",
            "   1.75050795e-02 -2.04176046e-02]\n",
            " [ 4.84873727e-03 -1.93888489e-02  9.80929099e-03 -3.69739272e-02\n",
            "   7.64412980e-04  2.10347716e-02 -1.58952810e-02 -6.22990392e-02\n",
            "   1.87489465e-02 -1.65865254e-02]\n",
            " [ 4.07624850e-03 -2.09831130e-02  1.05524231e-02 -3.99128273e-02\n",
            "   7.69231177e-04  2.15037353e-02 -1.79718826e-02 -6.74124062e-02\n",
            "   2.09635329e-02 -1.78906526e-02]\n",
            " [ 6.02767151e-03 -2.86524594e-02  1.54378694e-02 -5.37557863e-02\n",
            "   9.60218429e-04  3.07840407e-02 -2.34015305e-02 -9.13305432e-02\n",
            "   2.66252402e-02 -2.45389305e-02]\n",
            " [ 6.34184806e-03 -1.75882559e-02  9.37787723e-03 -3.34473401e-02\n",
            "   1.47513126e-03  2.12557968e-02 -1.17139416e-02 -5.53722233e-02\n",
            "   1.61226150e-02 -1.34082073e-02]\n",
            " [ 5.12456987e-03 -1.53669147e-02  7.03030359e-03 -2.68865544e-02\n",
            "  -1.66034827e-03  1.63107421e-02 -9.70699545e-03 -4.30468135e-02\n",
            "   9.88745317e-03 -1.34579623e-02]\n",
            " [ 4.47808625e-03 -1.98072325e-02  9.27978940e-03 -3.17228921e-02\n",
            "  -2.62874668e-03  1.91813447e-02 -1.54083092e-02 -5.37930429e-02\n",
            "   1.13651576e-02 -1.83038097e-02]\n",
            " [ 4.70827334e-03 -1.50635103e-02  6.02575811e-03 -2.77868602e-02\n",
            "   9.34235359e-05  1.69790648e-02 -1.12589821e-02 -4.50548194e-02\n",
            "   1.40447244e-02 -1.29477056e-02]\n",
            " [ 1.64988171e-03 -2.80419793e-02  1.81390848e-02 -5.67480139e-02\n",
            "   3.37246666e-03  2.58792248e-02 -2.97795553e-02 -1.04263991e-01\n",
            "   3.48623842e-02 -2.48636380e-02]\n",
            " [ 2.82208039e-03 -1.52528100e-02  7.16868881e-03 -3.31718884e-02\n",
            "   3.35306604e-03  1.43213691e-02 -1.56027218e-02 -5.88545687e-02\n",
            "   2.59160176e-02 -1.33212907e-02]\n",
            " [ 9.27917287e-03 -2.67639235e-02  1.31009798e-02 -5.14886416e-02\n",
            "   1.94878038e-03  3.23751494e-02 -1.80609450e-02 -8.38691071e-02\n",
            "   2.53545940e-02 -2.12488864e-02]\n",
            " [ 4.01493255e-03 -2.79486366e-02  1.59215126e-02 -5.76557107e-02\n",
            "   3.48392711e-03  2.67363228e-02 -2.78347284e-02 -1.01641335e-01\n",
            "   3.73308808e-02 -2.46973410e-02]\n",
            " [ 5.21295192e-03 -1.97038800e-02  1.00018792e-02 -4.04375680e-02\n",
            "   3.06532229e-03  2.17501950e-02 -1.67118125e-02 -6.88308477e-02\n",
            "   2.40328684e-02 -1.62794795e-02]\n",
            " [ 2.04714783e-03 -3.53198908e-02  1.97637025e-02 -6.98071346e-02\n",
            "   3.00216954e-03  2.95118708e-02 -3.71788405e-02 -1.26843199e-01\n",
            "   4.37589362e-02 -3.20538580e-02]\n",
            " [ 5.00826398e-03 -1.53038483e-02  6.57242257e-03 -2.33374387e-02\n",
            "  -3.52396560e-03  1.57447383e-02 -9.11363494e-03 -3.63153666e-02\n",
            "   5.32809785e-03 -1.37810735e-02]\n",
            " [ 4.92490083e-03 -3.53764743e-02  1.95814855e-02 -6.38413876e-02\n",
            "   2.05903765e-04  3.31969783e-02 -3.22577022e-02 -1.14464112e-01\n",
            "   3.18232849e-02 -3.13426666e-02]\n",
            " [ 6.62447372e-03 -2.61660945e-02  1.35897221e-02 -4.66566160e-02\n",
            "  -8.13236111e-04  2.71911751e-02 -2.01350283e-02 -7.84926862e-02\n",
            "   2.02199016e-02 -2.31691208e-02]\n",
            " [ 5.58375707e-03 -3.28711420e-02  1.77787654e-02 -6.24229126e-02\n",
            "   1.09878916e-03  3.22941132e-02 -2.98502818e-02 -1.09175965e-01\n",
            "   3.39581072e-02 -2.89460421e-02]\n",
            " [ 4.48177103e-03 -2.72731483e-02  1.38538079e-02 -5.03751934e-02\n",
            "   3.96710297e-04  2.66576223e-02 -2.43644174e-02 -8.77394602e-02\n",
            "   2.61678677e-02 -2.46392861e-02]\n",
            " [ 6.50956668e-03 -2.76530329e-02  1.62661206e-02 -5.82297482e-02\n",
            "   4.01211530e-03  3.09527088e-02 -2.46792696e-02 -9.94440243e-02\n",
            "   3.57983969e-02 -2.25545522e-02]\n",
            " [ 4.24374873e-03 -2.32043248e-02  9.72598791e-03 -3.98149192e-02\n",
            "  -1.55033125e-03  2.17664391e-02 -1.99312232e-02 -6.77804574e-02\n",
            "   1.85741764e-02 -2.14572288e-02]\n",
            " [ 6.30887039e-03 -2.53273007e-02  1.14890411e-02 -4.84065898e-02\n",
            "   6.09158364e-04  2.64198557e-02 -2.09674463e-02 -8.07148963e-02\n",
            "   2.67043225e-02 -2.25805491e-02]\n",
            " [ 5.28947823e-03 -2.20207646e-02  1.04149440e-02 -4.41489555e-02\n",
            "   1.59702904e-03  2.20354218e-02 -1.93814579e-02 -7.49737173e-02\n",
            "   2.75838822e-02 -1.92928631e-02]\n",
            " [ 3.10983346e-03 -3.36128101e-02  1.71203986e-02 -6.21049553e-02\n",
            "  -1.05970597e-03  2.99002025e-02 -3.29567418e-02 -1.08617917e-01\n",
            "   3.41285877e-02 -3.18470038e-02]\n",
            " [ 3.23709869e-03 -1.57382935e-02  9.01064370e-03 -3.26232277e-02\n",
            "   1.33461459e-03  1.95022747e-02 -1.29164699e-02 -5.57711571e-02\n",
            "   1.78231485e-02 -1.28203109e-02]\n",
            " [ 4.36367234e-03 -2.28920244e-02  1.16159152e-02 -4.33010347e-02\n",
            "   1.08783762e-03  2.37348489e-02 -2.00716574e-02 -7.41766095e-02\n",
            "   2.25828532e-02 -2.00952347e-02]\n",
            " [ 5.07894019e-03 -9.79231112e-03  3.44595942e-03 -1.65397543e-02\n",
            "  -7.08796491e-04  1.15732113e-02 -3.95832723e-03 -2.55237557e-02\n",
            "   5.31415921e-03 -7.86139723e-03]\n",
            " [ 6.13898924e-03 -3.08862068e-02  1.49686933e-02 -5.49419560e-02\n",
            "  -1.72721245e-03  3.13811861e-02 -2.60088108e-02 -9.27626565e-02\n",
            "   2.59892847e-02 -2.82179974e-02]\n",
            " [ 4.33195941e-03 -2.18635891e-02  1.05283903e-02 -3.93991433e-02\n",
            "  -4.95146844e-04  2.26799157e-02 -1.76585577e-02 -6.67817295e-02\n",
            "   1.83410868e-02 -2.03915164e-02]\n",
            " [ 2.73891003e-03 -3.43738794e-02  2.04761084e-02 -6.91261813e-02\n",
            "   2.85963295e-03  3.23063843e-02 -3.60196456e-02 -1.23959042e-01\n",
            "   4.28316705e-02 -3.02256551e-02]\n",
            " [ 5.79612376e-03 -3.08331326e-02  1.44738648e-02 -5.61923087e-02\n",
            "  -6.67401822e-04  2.88816206e-02 -2.77851745e-02 -9.68678147e-02\n",
            "   3.04856990e-02 -2.83827372e-02]]\n"
          ],
          "name": "stdout"
        }
      ]
    },
    {
      "cell_type": "code",
      "metadata": {
        "id": "F8rRDjOEmr42"
      },
      "source": [
        "optimizer = tf.keras.optimizers.Adam()\n",
        "loss_object = tf.keras.losses.SparseCategoricalCrossentropy(from_logits=True)\n",
        "\n",
        "loss_history = []"
      ],
      "execution_count": null,
      "outputs": []
    },
    {
      "cell_type": "code",
      "metadata": {
        "id": "4YhdtTc0ZUKi"
      },
      "source": [
        "def train_step(images, labels):\n",
        "  with tf.GradientTape() as tape:\n",
        "    logits = mnist_model(images, training = True)\n",
        "\n",
        "    tf.debugging.assert_equal(logits.shape, (32,10))\n",
        "\n",
        "    loss = loss_object(labels, logits)\n",
        "\n",
        "  loss_history.append(loss.numpy().mean())\n",
        "  grad = tape.gradient(loss, mnist_model.trainable_variables)\n",
        "  optimizer.apply_gradients(zip(grad, mnist_model.trainable_variables))"
      ],
      "execution_count": null,
      "outputs": []
    },
    {
      "cell_type": "code",
      "metadata": {
        "id": "949Us-B06hrn"
      },
      "source": [
        "def train(epochs):\n",
        "  for epoch in range(1,epochs+1):\n",
        "    for (batch, (images, labels)) in enumerate(dataset):\n",
        "      train_step(images, labels)\n",
        "    print(epoch)"
      ],
      "execution_count": null,
      "outputs": []
    },
    {
      "cell_type": "code",
      "metadata": {
        "id": "tOnHvjgeytIW",
        "colab": {
          "base_uri": "https://localhost:8080/"
        },
        "outputId": "5b8a7765-659d-4f87-9624-7b49fb97bcac"
      },
      "source": [
        "train(3)"
      ],
      "execution_count": null,
      "outputs": [
        {
          "output_type": "stream",
          "text": [
            "1\n",
            "2\n"
          ],
          "name": "stdout"
        }
      ]
    },
    {
      "cell_type": "code",
      "metadata": {
        "id": "6yIviqZeyvrz",
        "colab": {
          "base_uri": "https://localhost:8080/",
          "height": 300
        },
        "outputId": "1563ce58-83c4-428e-ae58-02638bd240a3"
      },
      "source": [
        "import matplotlib.pyplot as plt\n",
        "import numpy as np\n",
        "\n",
        "plt.plot(loss_history)\n",
        "plt.xlabel('Batch #')\n",
        "plt.ylabel('Loss [entropy]')"
      ],
      "execution_count": null,
      "outputs": [
        {
          "output_type": "execute_result",
          "data": {
            "text/plain": [
              "Text(0, 0.5, 'Loss [entropy]')"
            ]
          },
          "metadata": {
            "tags": []
          },
          "execution_count": 28
        },
        {
          "output_type": "display_data",
          "data": {
            "image/png": "[encoded data removed]",
            "text/plain": [
              "<Figure size 432x288 with 1 Axes>"
            ]
          },
          "metadata": {
            "tags": [],
            "needs_background": "light"
          }
        }
      ]
    },
    {
      "cell_type": "code",
      "metadata": {
        "id": "USTb3jWvzxEw"
      },
      "source": [
        ""
      ],
      "execution_count": null,
      "outputs": []
    },
    {
      "cell_type": "markdown",
      "metadata": {
        "id": "X4JNuVfDqzkw"
      },
      "source": [
        "# Linear"
      ]
    },
    {
      "cell_type": "code",
      "metadata": {
        "id": "RlbHZR_CrCsK"
      },
      "source": [
        "class Linear(tf.keras.Model):\n",
        "  def __init__(self):\n",
        "    super(Linear, self).__init__()\n",
        "    self.W = tf.Variable(10., name = 'weight')\n",
        "    self.B = tf.Variable(4., name = 'bias')\n",
        "\n",
        "  def call(self, inputs):\n",
        "    return inputs*self.W + self.B"
      ],
      "execution_count": null,
      "outputs": []
    },
    {
      "cell_type": "code",
      "metadata": {
        "id": "NLXQtzWvsGPy"
      },
      "source": [
        "NUM_EXAMPLES = 1000\n",
        "train_inputs = tf.random.normal([NUM_EXAMPLES])\n",
        "noise = tf.random.normal([NUM_EXAMPLES])\n",
        "train_outputs = train_inputs*4. + 8. + noise"
      ],
      "execution_count": null,
      "outputs": []
    },
    {
      "cell_type": "code",
      "metadata": {
        "id": "FEBUfcLBs5Bs"
      },
      "source": [
        "def loss(model, inputs, targets):\n",
        "  loss_error = model(inputs) - targets\n",
        "  return tf.reduce_mean(tf.square(loss_error))\n",
        "\n",
        "def grad(model, inputs, targets):\n",
        "  with tf.GradientTape() as tape:\n",
        "    error = loss(model, inputs, targets)\n",
        "  return tape.gradient(error, [model.W, model.B])"
      ],
      "execution_count": null,
      "outputs": []
    },
    {
      "cell_type": "code",
      "metadata": {
        "id": "_bCucz7haSzd",
        "colab": {
          "base_uri": "https://localhost:8080/"
        },
        "outputId": "7e390018-6ca9-4ef8-8daa-8c07f867d984"
      },
      "source": [
        "model = Linear()\n",
        "optimizer = tf.optimizers.SGD(learning_rate=0.01)\n",
        "\n",
        "print('Init Loss: {:.3f}'.format(loss(model, train_inputs, train_outputs)))"
      ],
      "execution_count": null,
      "outputs": [
        {
          "output_type": "stream",
          "text": [
            "Init Loss: 55.260\n"
          ],
          "name": "stdout"
        }
      ]
    },
    {
      "cell_type": "code",
      "metadata": {
        "id": "uaiO2L11bE28",
        "colab": {
          "base_uri": "https://localhost:8080/"
        },
        "outputId": "a057c57d-1f3c-472a-b379-d1f59e064500"
      },
      "source": [
        "steps = 300\n",
        "for step in range(1, steps+1):\n",
        "  grad_step = grad(model, train_inputs, train_outputs)\n",
        "  optimizer.apply_gradients(zip(grad_step, [model.W, model.B]))\n",
        "  if step%50 == 0 or step == 1:\n",
        "    print('Loss after {:03d} step equal {:.3f}'.format(step, loss(model, train_inputs, train_outputs)))"
      ],
      "execution_count": null,
      "outputs": [
        {
          "output_type": "stream",
          "text": [
            "Loss after 001 step equal 53.039\n",
            "Loss after 050 step equal 7.708\n",
            "Loss after 100 step equal 1.819\n",
            "Loss after 150 step equal 1.089\n",
            "Loss after 200 step equal 0.998\n",
            "Loss after 250 step equal 0.987\n",
            "Loss after 300 step equal 0.986\n"
          ],
          "name": "stdout"
        }
      ]
    },
    {
      "cell_type": "code",
      "metadata": {
        "id": "Nw4ekP33dVw-",
        "colab": {
          "base_uri": "https://localhost:8080/"
        },
        "outputId": "35b509c9-9fa9-4689-9cd8-e15f79dd24d3"
      },
      "source": [
        "print('W = {:4f} \\n B = {:4f}'.format(model.W.numpy(), model.B.numpy()))"
      ],
      "execution_count": null,
      "outputs": [
        {
          "output_type": "stream",
          "text": [
            "W = 3.983363 \n",
            " B = 8.014623\n"
          ],
          "name": "stdout"
        }
      ]
    },
    {
      "cell_type": "code",
      "metadata": {
        "id": "Urs4J5-nd9tC"
      },
      "source": [
        "model.save_weights('weights')\n",
        "status = model.load_weights('weights')"
      ],
      "execution_count": null,
      "outputs": []
    },
    {
      "cell_type": "code",
      "metadata": {
        "id": "hL8RIinegUx7"
      },
      "source": [
        "class Cubic(tf.keras.Model):\n",
        "  def __init__(self):\n",
        "    super(Cubic, self).__init__()\n",
        "    self.W = tf.Variable(3., name = 'weigth')\n",
        "\n",
        "  def call(self, inputs):\n",
        "    return self.W*inputs**3"
      ],
      "execution_count": null,
      "outputs": []
    },
    {
      "cell_type": "code",
      "metadata": {
        "id": "GpgpX78Z0V7y",
        "colab": {
          "base_uri": "https://localhost:8080/"
        },
        "outputId": "2624e0d7-49d5-445a-9f49-2c78ad98313b"
      },
      "source": [
        "cube = Cubic()\n",
        "input = tf.constant(4.)\n",
        "print(cube(input).numpy())"
      ],
      "execution_count": null,
      "outputs": [
        {
          "output_type": "stream",
          "text": [
            "192.0\n"
          ],
          "name": "stdout"
        }
      ]
    },
    {
      "cell_type": "code",
      "metadata": {
        "id": "b315jFl60pbJ",
        "colab": {
          "base_uri": "https://localhost:8080/"
        },
        "outputId": "a4e3aa2e-4384-46d2-8f02-be9f3e974230"
      },
      "source": [
        "3*(4**3)"
      ],
      "execution_count": null,
      "outputs": [
        {
          "output_type": "execute_result",
          "data": {
            "text/plain": [
              "192"
            ]
          },
          "metadata": {
            "tags": []
          },
          "execution_count": 10
        }
      ]
    }
  ]
}