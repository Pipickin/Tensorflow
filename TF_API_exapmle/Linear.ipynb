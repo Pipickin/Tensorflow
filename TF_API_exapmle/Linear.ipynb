{
  "nbformat": 4,
  "nbformat_minor": 0,
  "metadata": {
    "colab": {
      "name": "Linear.ipynb",
      "provenance": [],
      "authorship_tag": "ABX9TyOF1jJNxZj7DccpJ+0qTdwf",
      "include_colab_link": true
    },
    "kernelspec": {
      "name": "python3",
      "display_name": "Python 3"
    }
  },
  "cells": [
    {
      "cell_type": "markdown",
      "metadata": {
        "id": "view-in-github",
        "colab_type": "text"
      },
      "source": [
        "<a href=\"https://colab.research.google.com/github/Pipickin/Tensorflow/blob/main/TF_API_exapmle/Linear.ipynb\" target=\"_parent\"><img src=\"https://colab.research.google.com/assets/colab-badge.svg\" alt=\"Open In Colab\"/></a>"
      ]
    },
    {
      "cell_type": "code",
      "metadata": {
        "id": "iBHMIxT87t4G"
      },
      "source": [
        "import tensorflow as tf"
      ],
      "execution_count": null,
      "outputs": []
    },
    {
      "cell_type": "code",
      "metadata": {
        "id": "dwTGXuAS9Wmn"
      },
      "source": [
        "class Linear(tf.keras.Model):\n",
        "  def __init__(self):\n",
        "    super(Linear, self).__init__()\n",
        "    self.l1 = tf.keras.layers.Dense(5)\n",
        "\n",
        "  def call(self, inputs):\n",
        "    return self.l1(inputs)"
      ],
      "execution_count": null,
      "outputs": []
    },
    {
      "cell_type": "code",
      "metadata": {
        "id": "2i0iysNL9wR-",
        "colab": {
          "base_uri": "https://localhost:8080/"
        },
        "outputId": "0e4164ea-37dd-4d7c-95f2-34df3afb8b64"
      },
      "source": [
        "linear = Linear()\n",
        "inputs1 = tf.Variable([[1.]])\n",
        "print('output when inp is 1 : {}'.format(linear(inputs1).numpy()))\n",
        "\n",
        "inputs2 = tf.Variable([[2.]])\n",
        "print('output when inp is 2 : {}'.format(linear(inputs2).numpy()))\n",
        "\n",
        "inputs1_2 = tf.Variable([[3.]])\n",
        "print('output when inp are 1 and 2 : {}'.format(linear(inputs1_2).numpy()))"
      ],
      "execution_count": null,
      "outputs": [
        {
          "output_type": "stream",
          "text": [
            "output when inp is 1 : [[-0.6287761  -0.12758088 -0.54431176  0.30533147  0.22397685]]\n",
            "output when inp is 2 : [[-1.2575521  -0.25516176 -1.0886235   0.61066294  0.4479537 ]]\n",
            "output when inp are 1 and 2 : [[-1.8863282  -0.38274264 -1.6329353   0.9159944   0.67193055]]\n"
          ],
          "name": "stdout"
        }
      ]
    },
    {
      "cell_type": "code",
      "metadata": {
        "id": "3YvG0nmN9_HD",
        "colab": {
          "base_uri": "https://localhost:8080/"
        },
        "outputId": "6c98bc0a-3eb2-4194-fe66-f835c0152f38"
      },
      "source": [
        "x = tf.range(1., 4.)[:, tf.newaxis]\n",
        "print(linear(x).numpy())"
      ],
      "execution_count": null,
      "outputs": [
        {
          "output_type": "stream",
          "text": [
            "[[-0.6287761  -0.12758088 -0.54431176  0.30533147  0.22397685]\n",
            " [-1.2575521  -0.25516176 -1.0886235   0.61066294  0.4479537 ]\n",
            " [-1.8863282  -0.38274264 -1.6329353   0.9159944   0.67193055]]\n"
          ],
          "name": "stdout"
        }
      ]
    },
    {
      "cell_type": "code",
      "metadata": {
        "id": "XMjz4YEjAIQv"
      },
      "source": [
        "def toy_dataset():\n",
        "  inputs = tf.range(10.)[:, tf.newaxis]\n",
        "  outputs = 5*inputs + tf.range(5.)[tf.newaxis, :]\n",
        "  return "
      ],
      "execution_count": null,
      "outputs": []
    },
    {
      "cell_type": "code",
      "metadata": {
        "id": "njNPwipMB1HZ",
        "colab": {
          "base_uri": "https://localhost:8080/"
        },
        "outputId": "965cb49b-cc30-493b-85f2-3f0356162bc9"
      },
      "source": [
        "outputs"
      ],
      "execution_count": null,
      "outputs": [
        {
          "output_type": "execute_result",
          "data": {
            "text/plain": [
              "<tf.Tensor: shape=(10, 5), dtype=float32, numpy=\n",
              "array([[ 0.,  1.,  2.,  3.,  4.],\n",
              "       [ 5.,  6.,  7.,  8.,  9.],\n",
              "       [10., 11., 12., 13., 14.],\n",
              "       [15., 16., 17., 18., 19.],\n",
              "       [20., 21., 22., 23., 24.],\n",
              "       [25., 26., 27., 28., 29.],\n",
              "       [30., 31., 32., 33., 34.],\n",
              "       [35., 36., 37., 38., 39.],\n",
              "       [40., 41., 42., 43., 44.],\n",
              "       [45., 46., 47., 48., 49.]], dtype=float32)>"
            ]
          },
          "metadata": {
            "tags": []
          },
          "execution_count": 34
        }
      ]
    },
    {
      "cell_type": "code",
      "metadata": {
        "id": "QdV6CmMoB6x9"
      },
      "source": [
        ""
      ],
      "execution_count": null,
      "outputs": []
    }
  ]
}