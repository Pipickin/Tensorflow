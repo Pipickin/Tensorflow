{
  "nbformat": 4,
  "nbformat_minor": 0,
  "metadata": {
    "colab": {
      "name": "Work witf tf.Dataset",
      "provenance": [],
      "collapsed_sections": [
        "n7ivH0sku8NR",
        "-uzwoBSrvgC2"
      ],
      "authorship_tag": "ABX9TyPsijX9hcRbu5iIQhudz7lq",
      "include_colab_link": true
    },
    "kernelspec": {
      "name": "python3",
      "display_name": "Python 3"
    }
  },
  "cells": [
    {
      "cell_type": "markdown",
      "metadata": {
        "id": "view-in-github",
        "colab_type": "text"
      },
      "source": [
        "<a href=\"https://colab.research.google.com/github/Pipickin/Tensorflow/blob/main/TF_API_exapmle/Work_witf_tf_Dataset.ipynb\" target=\"_parent\"><img src=\"https://colab.research.google.com/assets/colab-badge.svg\" alt=\"Open In Colab\"/></a>"
      ]
    },
    {
      "cell_type": "code",
      "metadata": {
        "id": "Y5vmM4nUse8G"
      },
      "source": [
        "import tensorflow as tf\n",
        "import numpy as np\n",
        "import collections"
      ],
      "execution_count": null,
      "outputs": []
    },
    {
      "cell_type": "markdown",
      "metadata": {
        "id": "n7ivH0sku8NR"
      },
      "source": [
        "# Define"
      ]
    },
    {
      "cell_type": "code",
      "metadata": {
        "id": "5jn2ej83stts",
        "colab": {
          "base_uri": "https://localhost:8080/"
        },
        "outputId": "fe0531ac-c1f1-4b75-d677-fca48e62b4bd"
      },
      "source": [
        "train, test = tf.keras.datasets.mnist.load_data()\n",
        "mnist_x, mnist_y = train\n",
        "\n",
        "mnist_ds = tf.data.Dataset.from_tensor_slices(mnist_x)\n",
        "\n",
        "print(mnist_x.shape)\n",
        "print(mnist_ds)"
      ],
      "execution_count": null,
      "outputs": [
        {
          "output_type": "stream",
          "text": [
            "Downloading data from https://storage.googleapis.com/tensorflow/tf-keras-datasets/mnist.npz\n",
            "11493376/11490434 [==============================] - 0s 0us/step\n",
            "(60000, 28, 28)\n",
            "<TensorSliceDataset shapes: (28, 28), types: tf.uint8>\n"
          ],
          "name": "stdout"
        }
      ]
    },
    {
      "cell_type": "code",
      "metadata": {
        "id": "pHw5DK_r8y_b",
        "colab": {
          "base_uri": "https://localhost:8080/"
        },
        "outputId": "e2b32a79-3de1-4c8b-93c6-4241f2ea280b"
      },
      "source": [
        "a = np.array([[[1,1,1],[2,2,2]],\n",
        "              [[3,3,3],[4,4,4]]])\n",
        "print(a.shape)\n",
        "\n",
        "a_ds = tf.data.Dataset.from_tensor_slices(a)\n",
        "a_np = list(a_ds.as_numpy_iterator())\n",
        "print(a_np)\n",
        "\n",
        "a_ds_shufled = a_ds.shuffle(5, reshuffle_each_iteration=True) \n",
        "a_np_shufled = list(a_ds_shufled.as_numpy_iterator())\n",
        "print(a_np_shufled)"
      ],
      "execution_count": null,
      "outputs": [
        {
          "output_type": "stream",
          "text": [
            "(2, 2, 3)\n",
            "[array([[1, 1, 1],\n",
            "       [2, 2, 2]]), array([[3, 3, 3],\n",
            "       [4, 4, 4]])]\n",
            "[array([[1, 1, 1],\n",
            "       [2, 2, 2]]), array([[3, 3, 3],\n",
            "       [4, 4, 4]])]\n"
          ],
          "name": "stdout"
        }
      ]
    },
    {
      "cell_type": "code",
      "metadata": {
        "id": "Bb5BVHZH-SxD",
        "colab": {
          "base_uri": "https://localhost:8080/"
        },
        "outputId": "4d7a3896-0d82-4060-d137-af2422261304"
      },
      "source": [
        "a_ds_shufled_repeated = a_ds_shufled.repeat(2)\n",
        "print(list(a_ds_shufled_repeated.as_numpy_iterator()))"
      ],
      "execution_count": null,
      "outputs": [
        {
          "output_type": "stream",
          "text": [
            "[array([[3, 3, 3],\n",
            "       [4, 4, 4]]), array([[1, 1, 1],\n",
            "       [2, 2, 2]]), array([[3, 3, 3],\n",
            "       [4, 4, 4]]), array([[1, 1, 1],\n",
            "       [2, 2, 2]])]\n"
          ],
          "name": "stdout"
        }
      ]
    },
    {
      "cell_type": "code",
      "metadata": {
        "id": "3bdD6LQYBBU3",
        "colab": {
          "base_uri": "https://localhost:8080/"
        },
        "outputId": "b173bc4b-7236-4a3f-9ae1-45884912288c"
      },
      "source": [
        "a_ds_shufled_repeated_batched = a_ds_shufled_repeated.batch(2)\n",
        "print(list(a_ds_shufled_repeated_batched.as_numpy_iterator()))\n",
        "print(a_ds_shufled_repeated_batched)"
      ],
      "execution_count": null,
      "outputs": [
        {
          "output_type": "stream",
          "text": [
            "[array([[[3, 3, 3],\n",
            "        [4, 4, 4]],\n",
            "\n",
            "       [[1, 1, 1],\n",
            "        [2, 2, 2]]]), array([[[3, 3, 3],\n",
            "        [4, 4, 4]],\n",
            "\n",
            "       [[1, 1, 1],\n",
            "        [2, 2, 2]]])]\n",
            "<BatchDataset shapes: (None, 2, 3), types: tf.int64>\n"
          ],
          "name": "stdout"
        }
      ]
    },
    {
      "cell_type": "code",
      "metadata": {
        "id": "jKDO6PKoBi06",
        "colab": {
          "base_uri": "https://localhost:8080/"
        },
        "outputId": "ae44f55d-c915-4c96-ee5f-540a0c43266c"
      },
      "source": [
        "a_ds_shufled_repeated_batched = a_ds_shufled_repeated.batch(3)\n",
        "print(list(a_ds_shufled_repeated_batched.as_numpy_iterator()))\n",
        "print(a_ds_shufled_repeated_batched)"
      ],
      "execution_count": null,
      "outputs": [
        {
          "output_type": "stream",
          "text": [
            "[array([[[3, 3, 3],\n",
            "        [4, 4, 4]],\n",
            "\n",
            "       [[1, 1, 1],\n",
            "        [2, 2, 2]],\n",
            "\n",
            "       [[1, 1, 1],\n",
            "        [2, 2, 2]]]), array([[[3, 3, 3],\n",
            "        [4, 4, 4]]])]\n",
            "<BatchDataset shapes: (None, 2, 3), types: tf.int64>\n"
          ],
          "name": "stdout"
        }
      ]
    },
    {
      "cell_type": "code",
      "metadata": {
        "id": "LvX5zZS0DWGJ",
        "colab": {
          "base_uri": "https://localhost:8080/"
        },
        "outputId": "f28d9e20-e9ef-4172-a3eb-0f0cfc50e510"
      },
      "source": [
        "a_ds_shufled_repeated_batched = a_ds_shufled_repeated.batch(4)\n",
        "print(list(a_ds_shufled_repeated_batched.as_numpy_iterator()))\n",
        "tf.print(a_ds_shufled_repeated_batched)"
      ],
      "execution_count": null,
      "outputs": [
        {
          "output_type": "stream",
          "text": [
            "[array([[[3, 3, 3],\n",
            "        [4, 4, 4]],\n",
            "\n",
            "       [[1, 1, 1],\n",
            "        [2, 2, 2]],\n",
            "\n",
            "       [[3, 3, 3],\n",
            "        [4, 4, 4]],\n",
            "\n",
            "       [[1, 1, 1],\n",
            "        [2, 2, 2]]])]\n",
            "<BatchDataset shapes: (None, 2, 3), types: tf.int64>\n"
          ],
          "name": "stdout"
        }
      ]
    },
    {
      "cell_type": "code",
      "metadata": {
        "id": "2TFUnJDiDf8H"
      },
      "source": [
        "b = a_ds_shufled_repeated_batched\n",
        "b = b.map(lambda x: x*2)"
      ],
      "execution_count": null,
      "outputs": []
    },
    {
      "cell_type": "code",
      "metadata": {
        "id": "K5lRvLL0QXM0",
        "colab": {
          "base_uri": "https://localhost:8080/"
        },
        "outputId": "8f7a2752-79b6-4ab9-af87-e747b7b083a0"
      },
      "source": [
        "print(list(b.as_numpy_iterator()))"
      ],
      "execution_count": null,
      "outputs": [
        {
          "output_type": "stream",
          "text": [
            "[array([[[6, 6, 6],\n",
            "        [8, 8, 8]],\n",
            "\n",
            "       [[2, 2, 2],\n",
            "        [4, 4, 4]],\n",
            "\n",
            "       [[6, 6, 6],\n",
            "        [8, 8, 8]],\n",
            "\n",
            "       [[2, 2, 2],\n",
            "        [4, 4, 4]]])]\n"
          ],
          "name": "stdout"
        }
      ]
    },
    {
      "cell_type": "code",
      "metadata": {
        "id": "JzigzF_GpK1W",
        "colab": {
          "base_uri": "https://localhost:8080/"
        },
        "outputId": "d3b72fd7-421a-49af-8b67-4ad28fee8d70"
      },
      "source": [
        "dict_a = {'key1': [1,2],\n",
        "          'key2': 3}\n",
        "Point = collections.namedtuple('Point', ['x', 'y'])\n",
        "e = Point(12, 42)\n",
        "f = tf.data.Dataset.range(10)\n",
        "print(list(f.as_numpy_iterator()))"
      ],
      "execution_count": null,
      "outputs": [
        {
          "output_type": "stream",
          "text": [
            "[0, 1, 2, 3, 4, 5, 6, 7, 8, 9]\n"
          ],
          "name": "stdout"
        }
      ]
    },
    {
      "cell_type": "markdown",
      "metadata": {
        "id": "-uzwoBSrvgC2"
      },
      "source": [
        "# Apply"
      ]
    },
    {
      "cell_type": "code",
      "metadata": {
        "id": "luxJh_cFp-oz",
        "colab": {
          "base_uri": "https://localhost:8080/"
        },
        "outputId": "4d0f5860-a67f-473e-d655-8426ec3e50ed"
      },
      "source": [
        "def square_of_positive(ds):\n",
        "  ds1 = ds.filter(lambda x: x>0)\n",
        "  return ds1.map(lambda x: x**2)\n",
        "\n",
        "\n",
        "dataset = tf.data.Dataset.range(-5, 5)\n",
        "dataset_map = dataset.map(lambda x: x>0)\n",
        "dataset = dataset.apply(square_of_positive)\n",
        "\n",
        "print(list(dataset_map.as_numpy_iterator()))\n",
        "print(list(dataset.as_numpy_iterator()))"
      ],
      "execution_count": null,
      "outputs": [
        {
          "output_type": "stream",
          "text": [
            "[False, False, False, False, False, False, True, True, True, True]\n",
            "[1, 4, 9, 16]\n"
          ],
          "name": "stdout"
        }
      ]
    },
    {
      "cell_type": "code",
      "metadata": {
        "id": "4joWFIcxwuwJ",
        "colab": {
          "base_uri": "https://localhost:8080/"
        },
        "outputId": "541d0a6a-5ac5-47c8-deba-7e806f0ee3dc"
      },
      "source": [
        "dataset = dataset.map(lambda x: x*5)\n",
        "list(dataset.as_numpy_iterator())"
      ],
      "execution_count": null,
      "outputs": [
        {
          "output_type": "execute_result",
          "data": {
            "text/plain": [
              "[5, 20, 45, 80]"
            ]
          },
          "metadata": {
            "tags": []
          },
          "execution_count": 20
        }
      ]
    },
    {
      "cell_type": "code",
      "metadata": {
        "id": "V5KlrGox8ig8",
        "colab": {
          "base_uri": "https://localhost:8080/"
        },
        "outputId": "9f4b3860-3a40-4447-ebc2-b0ed2c5f7212"
      },
      "source": [
        "dataset = tf.data.Dataset.from_tensor_slices({'a': ([1, 2], [3, 4]),\n",
        "                                              'b': [7, 8]})\n",
        "list(dataset.as_numpy_iterator())"
      ],
      "execution_count": null,
      "outputs": [
        {
          "output_type": "execute_result",
          "data": {
            "text/plain": [
              "[{'a': (1, 3), 'b': 7}, {'a': (2, 4), 'b': 8}]"
            ]
          },
          "metadata": {
            "tags": []
          },
          "execution_count": 49
        }
      ]
    },
    {
      "cell_type": "markdown",
      "metadata": {
        "id": "gXpVQsS-O1sK"
      },
      "source": [
        "# Batch and shufle"
      ]
    },
    {
      "cell_type": "code",
      "metadata": {
        "id": "8ynjhKn0O8yf",
        "colab": {
          "base_uri": "https://localhost:8080/"
        },
        "outputId": "fe68b374-75ac-46ee-df7e-bc3d7ab42f82"
      },
      "source": [
        "dataset = tf.data.Dataset.range(1, 20)\n",
        "dataset = dataset.batch(3, drop_remainder=True)\n",
        "list(dataset.as_numpy_iterator())"
      ],
      "execution_count": null,
      "outputs": [
        {
          "output_type": "execute_result",
          "data": {
            "text/plain": [
              "[array([1, 2, 3]),\n",
              " array([4, 5, 6]),\n",
              " array([7, 8, 9]),\n",
              " array([10, 11, 12]),\n",
              " array([13, 14, 15]),\n",
              " array([16, 17, 18])]"
            ]
          },
          "metadata": {
            "tags": []
          },
          "execution_count": 54
        }
      ]
    },
    {
      "cell_type": "code",
      "metadata": {
        "id": "UtEjTM6NRLvl"
      },
      "source": [
        ""
      ],
      "execution_count": null,
      "outputs": []
    }
  ]
}