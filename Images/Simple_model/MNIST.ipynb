{
  "nbformat": 4,
  "nbformat_minor": 0,
  "metadata": {
    "kernelspec": {
      "display_name": "Python 3",
      "language": "python",
      "name": "python3"
    },
    "language_info": {
      "codemirror_mode": {
        "name": "ipython",
        "version": 3
      },
      "file_extension": ".py",
      "mimetype": "text/x-python",
      "name": "python",
      "nbconvert_exporter": "python",
      "pygments_lexer": "ipython3",
      "version": "3.8.5"
    },
    "colab": {
      "name": " MNIST.ipynb",
      "provenance": [],
      "collapsed_sections": [],
      "include_colab_link": true
    }
  },
  "cells": [
    {
      "cell_type": "markdown",
      "metadata": {
        "id": "view-in-github",
        "colab_type": "text"
      },
      "source": [
        "<a href=\"https://colab.research.google.com/github/Pipickin/Tensorflow/blob/main/Images/Simple_model/MNIST.ipynb\" target=\"_parent\"><img src=\"https://colab.research.google.com/assets/colab-badge.svg\" alt=\"Open In Colab\"/></a>"
      ]
    },
    {
      "cell_type": "code",
      "metadata": {
        "id": "Dn9GzO2cD2h8",
        "colab": {
          "base_uri": "https://localhost:8080/"
        },
        "outputId": "c24534c2-4c1e-48ca-98c8-de3a3ca64f19"
      },
      "source": [
        "!ls"
      ],
      "execution_count": null,
      "outputs": [
        {
          "output_type": "stream",
          "text": [
            "sample_data\n"
          ],
          "name": "stdout"
        }
      ]
    },
    {
      "cell_type": "code",
      "metadata": {
        "id": "1IZ7cpTPz6Dq"
      },
      "source": [
        "# import some module from keras\n",
        "from keras.datasets import mnist   \n",
        "from keras.models import Model\n",
        "from keras.layers import Input, Dense\n",
        "from keras.utils import np_utils"
      ],
      "execution_count": null,
      "outputs": []
    },
    {
      "cell_type": "code",
      "metadata": {
        "id": "urYaoWUpz6Dv"
      },
      "source": [
        "batch_size = 128\n",
        "num_epochs = 20\n",
        "hidden_size = 512"
      ],
      "execution_count": null,
      "outputs": []
    },
    {
      "cell_type": "code",
      "metadata": {
        "id": "HZRiCnnFz6Dy",
        "colab": {
          "base_uri": "https://localhost:8080/",
          "height": 50
        },
        "outputId": "3e8415f9-3f78-4baa-bb08-c8c3ec228b9a"
      },
      "source": [
        "num_train = 60000 # there are 60000 training examples in MNIST\n",
        "num_test = 10000 # there are 10000 test examples in MNIST\n",
        "\n",
        "height, width, depth = 28, 28, 1 # MNIST images are 28x28 and greyscale\n",
        "image_size = height*width\n",
        "num_classes = 10\n",
        "\n",
        "(X_train, y_train), (X_test, y_test) = mnist.load_data()"
      ],
      "execution_count": null,
      "outputs": [
        {
          "output_type": "stream",
          "text": [
            "Downloading data from https://storage.googleapis.com/tensorflow/tf-keras-datasets/mnist.npz\n",
            "11493376/11490434 [==============================] - 0s 0us/step\n"
          ],
          "name": "stdout"
        }
      ]
    },
    {
      "cell_type": "code",
      "metadata": {
        "id": "aHfFDjXTz6D2"
      },
      "source": [
        "X_train = X_train.reshape((-1,height*width))\n",
        "X_test = X_test.reshape((-1, height*width))\n",
        "\n",
        "X_train = X_train.astype('float32')\n",
        "X_test = X_test.astype('float32')\n",
        "\n",
        "# normalize our input \n",
        "X_train = X_train/255\n",
        "X_test = X_test/255\n",
        "\n",
        "Y_train = np_utils.to_categorical(y_train, num_classes)\n",
        "Y_test = np_utils.to_categorical(y_test, num_classes)"
      ],
      "execution_count": null,
      "outputs": []
    },
    {
      "cell_type": "code",
      "metadata": {
        "id": "VrAbAtvsz6D6"
      },
      "source": [
        "# To set layers\n",
        "inp = Input(shape=(height*width,))\n",
        "hidden_1 = Dense(hidden_size, activation='relu')(inp)\n",
        "hidden_2 = Dense(hidden_size, activation = 'relu')(hidden_1)\n",
        "out = Dense(num_classes, activation = 'softmax')(hidden_2)\n",
        "\n",
        "model = Model(inputs = inp, outputs = out) # To define a model, just specify its input and output layers"
      ],
      "execution_count": null,
      "outputs": []
    },
    {
      "cell_type": "code",
      "metadata": {
        "id": "3p5uiuMyz6D-"
      },
      "source": [
        "model.compile(loss='categorical_crossentropy', # using the cross-entropy loss function\n",
        "              optimizer='adam', # using the Adam optimiser\n",
        "              metrics=['accuracy']) # reporting the accuracy"
      ],
      "execution_count": null,
      "outputs": []
    },
    {
      "cell_type": "code",
      "metadata": {
        "id": "d3CdbjAaz6EC",
        "colab": {
          "base_uri": "https://localhost:8080/",
          "height": 722
        },
        "outputId": "a400f445-1fe4-497b-cb3f-917a8a44bc9e"
      },
      "source": [
        "model.fit(X_train, Y_train, # Train the model using the training set...\n",
        "          batch_size=batch_size, epochs=num_epochs,\n",
        "          verbose=1, validation_split=0.1) # ...holding out 10% of the data for validation\n",
        "model.evaluate(X_test, Y_test, verbose=1) # Evaluate the trained model on the test set!"
      ],
      "execution_count": null,
      "outputs": [
        {
          "output_type": "stream",
          "text": [
            "Epoch 1/20\n",
            "422/422 [==============================] - 6s 13ms/step - loss: 0.2298 - accuracy: 0.9315 - val_loss: 0.1012 - val_accuracy: 0.9687\n",
            "Epoch 2/20\n",
            "422/422 [==============================] - 6s 13ms/step - loss: 0.0822 - accuracy: 0.9746 - val_loss: 0.0889 - val_accuracy: 0.9765\n",
            "Epoch 3/20\n",
            "422/422 [==============================] - 6s 13ms/step - loss: 0.0531 - accuracy: 0.9833 - val_loss: 0.0884 - val_accuracy: 0.9740\n",
            "Epoch 4/20\n",
            "422/422 [==============================] - 5s 13ms/step - loss: 0.0378 - accuracy: 0.9880 - val_loss: 0.0706 - val_accuracy: 0.9787\n",
            "Epoch 5/20\n",
            "422/422 [==============================] - 5s 13ms/step - loss: 0.0277 - accuracy: 0.9909 - val_loss: 0.0715 - val_accuracy: 0.9790\n",
            "Epoch 6/20\n",
            "422/422 [==============================] - 5s 13ms/step - loss: 0.0217 - accuracy: 0.9928 - val_loss: 0.0895 - val_accuracy: 0.9788\n",
            "Epoch 7/20\n",
            "422/422 [==============================] - 5s 13ms/step - loss: 0.0207 - accuracy: 0.9931 - val_loss: 0.0853 - val_accuracy: 0.9798\n",
            "Epoch 8/20\n",
            "422/422 [==============================] - 5s 13ms/step - loss: 0.0164 - accuracy: 0.9942 - val_loss: 0.0752 - val_accuracy: 0.9805\n",
            "Epoch 9/20\n",
            "422/422 [==============================] - 5s 13ms/step - loss: 0.0167 - accuracy: 0.9942 - val_loss: 0.1009 - val_accuracy: 0.9773\n",
            "Epoch 10/20\n",
            "422/422 [==============================] - 5s 13ms/step - loss: 0.0135 - accuracy: 0.9954 - val_loss: 0.0856 - val_accuracy: 0.9830\n",
            "Epoch 11/20\n",
            "422/422 [==============================] - 5s 13ms/step - loss: 0.0075 - accuracy: 0.9977 - val_loss: 0.1102 - val_accuracy: 0.9775\n",
            "Epoch 12/20\n",
            "422/422 [==============================] - 5s 13ms/step - loss: 0.0140 - accuracy: 0.9953 - val_loss: 0.0934 - val_accuracy: 0.9803\n",
            "Epoch 13/20\n",
            "422/422 [==============================] - 5s 13ms/step - loss: 0.0089 - accuracy: 0.9970 - val_loss: 0.1230 - val_accuracy: 0.9778\n",
            "Epoch 14/20\n",
            "422/422 [==============================] - 5s 13ms/step - loss: 0.0115 - accuracy: 0.9962 - val_loss: 0.0828 - val_accuracy: 0.9830\n",
            "Epoch 15/20\n",
            "422/422 [==============================] - 5s 13ms/step - loss: 0.0121 - accuracy: 0.9959 - val_loss: 0.0843 - val_accuracy: 0.9840\n",
            "Epoch 16/20\n",
            "422/422 [==============================] - 5s 13ms/step - loss: 0.0075 - accuracy: 0.9974 - val_loss: 0.0937 - val_accuracy: 0.9800\n",
            "Epoch 17/20\n",
            "422/422 [==============================] - 5s 13ms/step - loss: 0.0080 - accuracy: 0.9975 - val_loss: 0.0969 - val_accuracy: 0.9805\n",
            "Epoch 18/20\n",
            "422/422 [==============================] - 5s 13ms/step - loss: 0.0094 - accuracy: 0.9970 - val_loss: 0.1433 - val_accuracy: 0.9747\n",
            "Epoch 19/20\n",
            "422/422 [==============================] - 5s 13ms/step - loss: 0.0084 - accuracy: 0.9974 - val_loss: 0.1100 - val_accuracy: 0.9817\n",
            "Epoch 20/20\n",
            "422/422 [==============================] - 6s 13ms/step - loss: 0.0075 - accuracy: 0.9976 - val_loss: 0.1064 - val_accuracy: 0.9810\n",
            "313/313 [==============================] - 1s 2ms/step - loss: 0.0934 - accuracy: 0.9828\n"
          ],
          "name": "stdout"
        },
        {
          "output_type": "execute_result",
          "data": {
            "text/plain": [
              "[0.0934298112988472, 0.9828000068664551]"
            ]
          },
          "metadata": {
            "tags": []
          },
          "execution_count": 7
        }
      ]
    },
    {
      "cell_type": "code",
      "metadata": {
        "id": "iDmmidGfz6EG"
      },
      "source": [
        "# Import pyplot from matplotlib to show numbers\n",
        "import matplotlib.pyplot as plt\n",
        "import numpy as np"
      ],
      "execution_count": null,
      "outputs": []
    },
    {
      "cell_type": "code",
      "metadata": {
        "id": "4WKJg1MHz6EJ",
        "colab": {
          "base_uri": "https://localhost:8080/",
          "height": 1000
        },
        "outputId": "13ffc85b-8a51-4355-d3ec-dd4ecf74cc33"
      },
      "source": [
        "# Let's take a look at our numbers and check what our model predicts\n",
        "use_samples = [1, 10, 1000, 2444]\n",
        "samples_to_predict = []\n",
        "\n",
        "# Generate plots for samples\n",
        "for sample in use_samples:\n",
        "    reshaped_image = X_test[sample].reshape((width, height))\n",
        "    plt.imshow(reshaped_image)\n",
        "    plt.show()\n",
        "  # Add sample to array for prediction\n",
        "    sample_predict = model.predict(X_test[sample].reshape((1,image_size)))\n",
        "    print(np.argmax(sample_predict))      # np.argmax helps us to find number with the hieghest chance\n",
        "    "
      ],
      "execution_count": null,
      "outputs": [
        {
          "output_type": "display_data",
          "data": {
            "image/png": "[encoded data removed]",
            "text/plain": [
              "<Figure size 432x288 with 1 Axes>"
            ]
          },
          "metadata": {
            "tags": [],
            "needs_background": "light"
          }
        },
        {
          "output_type": "stream",
          "text": [
            "2\n"
          ],
          "name": "stdout"
        },
        {
          "output_type": "display_data",
          "data": {
            "image/png": "[encoded data removed]",
            "text/plain": [
              "<Figure size 432x288 with 1 Axes>"
            ]
          },
          "metadata": {
            "tags": [],
            "needs_background": "light"
          }
        },
        {
          "output_type": "stream",
          "text": [
            "0\n"
          ],
          "name": "stdout"
        },
        {
          "output_type": "display_data",
          "data": {
            "image/png": "[encoded data removed]",
            "text/plain": [
              "<Figure size 432x288 with 1 Axes>"
            ]
          },
          "metadata": {
            "tags": [],
            "needs_background": "light"
          }
        },
        {
          "output_type": "stream",
          "text": [
            "9\n"
          ],
          "name": "stdout"
        },
        {
          "output_type": "display_data",
          "data": {
            "image/png": "[encoded data removed]",
            "text/plain": [
              "<Figure size 432x288 with 1 Axes>"
            ]
          },
          "metadata": {
            "tags": [],
            "needs_background": "light"
          }
        },
        {
          "output_type": "stream",
          "text": [
            "1\n"
          ],
          "name": "stdout"
        }
      ]
    },
    {
      "cell_type": "code",
      "metadata": {
        "id": "wUJhOnsK0DXm"
      },
      "source": [
        ""
      ],
      "execution_count": null,
      "outputs": []
    }
  ]
}