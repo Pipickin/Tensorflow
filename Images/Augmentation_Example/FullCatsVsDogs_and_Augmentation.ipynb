{
  "nbformat": 4,
  "nbformat_minor": 0,
  "metadata": {
    "accelerator": "GPU",
    "colab": {
      "name": "FullCatsVsDogs and Augmentation.ipynb",
      "provenance": [],
      "collapsed_sections": [],
      "include_colab_link": true
    },
    "kernelspec": {
      "display_name": "Python 3",
      "name": "python3"
    }
  },
  "cells": [
    {
      "cell_type": "markdown",
      "metadata": {
        "id": "view-in-github",
        "colab_type": "text"
      },
      "source": [
        "<a href=\"https://colab.research.google.com/github/Pipickin/Tensorflow/blob/main/Images/Augmentation_Example/FullCatsVsDogs_and_Augmentation.ipynb\" target=\"_parent\"><img src=\"https://colab.research.google.com/assets/colab-badge.svg\" alt=\"Open In Colab\"/></a>"
      ]
    },
    {
      "cell_type": "code",
      "metadata": {
        "id": "dn-6c02VmqiN"
      },
      "source": [
        "import os\n",
        "import zipfile\n",
        "import random\n",
        "import tensorflow as tf\n",
        "from tensorflow.keras.optimizers import RMSprop\n",
        "from tensorflow.keras.preprocessing.image import ImageDataGenerator\n",
        "from shutil import copyfile"
      ],
      "execution_count": null,
      "outputs": []
    },
    {
      "cell_type": "code",
      "metadata": {
        "id": "3sd9dQWa23aj",
        "colab": {
          "base_uri": "https://localhost:8080/",
          "height": 202
        },
        "outputId": "bc3e5ce1-fbc6-41da-98c8-a64770baa63f"
      },
      "source": [
        "# Download zip file with required images\n",
        "\n",
        "!wget --no-check-certificate \\\n",
        "    \"https://download.microsoft.com/download/3/E/1/3E1C3F21-ECDB-4869-8368-6DEBA77B919F/kagglecatsanddogs_3367a.zip\" \\\n",
        "    -O \"/tmp/cats-and-dogs.zip\"\n",
        "\n",
        "local_zip = '/tmp/cats-and-dogs.zip'\n",
        "zip_ref = zipfile.ZipFile(local_zip, 'r')\n",
        "zip_ref.extractall('/tmp')\n",
        "zip_ref.close()"
      ],
      "execution_count": null,
      "outputs": [
        {
          "output_type": "stream",
          "text": [
            "--2020-10-03 15:15:32--  https://download.microsoft.com/download/3/E/1/3E1C3F21-ECDB-4869-8368-6DEBA77B919F/kagglecatsanddogs_3367a.zip\n",
            "Resolving download.microsoft.com (download.microsoft.com)... 92.123.124.137, 2a02:26f0:6b:5a5::e59, 2a02:26f0:6b:5b3::e59\n",
            "Connecting to download.microsoft.com (download.microsoft.com)|92.123.124.137|:443... connected.\n",
            "HTTP request sent, awaiting response... 200 OK\n",
            "Length: 824894548 (787M) [application/octet-stream]\n",
            "Saving to: ‘/tmp/cats-and-dogs.zip’\n",
            "\n",
            "/tmp/cats-and-dogs. 100%[===================>] 786.68M   145MB/s    in 5.7s    \n",
            "\n",
            "2020-10-03 15:15:38 (139 MB/s) - ‘/tmp/cats-and-dogs.zip’ saved [824894548/824894548]\n",
            "\n"
          ],
          "name": "stdout"
        }
      ]
    },
    {
      "cell_type": "code",
      "metadata": {
        "id": "gi3yD62a6X3S",
        "colab": {
          "base_uri": "https://localhost:8080/",
          "height": 50
        },
        "outputId": "bdbaaf46-f39a-436d-c7ea-5d8f97021b0f"
      },
      "source": [
        "print(len(os.listdir('/tmp/PetImages/Cat/')))\n",
        "print(len(os.listdir('/tmp/PetImages/Dog/')))"
      ],
      "execution_count": null,
      "outputs": [
        {
          "output_type": "stream",
          "text": [
            "12501\n",
            "12501\n"
          ],
          "name": "stdout"
        }
      ]
    },
    {
      "cell_type": "code",
      "metadata": {
        "id": "p5wFz7buqish",
        "colab": {
          "base_uri": "https://localhost:8080/",
          "height": 34
        },
        "outputId": "802ad867-bf2d-418f-c7a6-20e58ab97936"
      },
      "source": [
        "os.listdir('/tmp')"
      ],
      "execution_count": null,
      "outputs": [
        {
          "output_type": "execute_result",
          "data": {
            "text/plain": [
              "['readme[1].txt', 'cats-and-dogs.zip', 'PetImages', 'MSR-LA - 3467.docx']"
            ]
          },
          "metadata": {
            "tags": []
          },
          "execution_count": 4
        }
      ]
    },
    {
      "cell_type": "code",
      "metadata": {
        "id": "F-QkLjxpmyK2"
      },
      "source": [
        "# Create the directories cats-v-dogs and subdirectories for training and testing\n",
        "# These in turn will need subdirectories for 'cats' and 'dogs'\n",
        "try:\n",
        "    tmp_path = '/tmp/cats-v-dogs/'\n",
        "    tmp_path_train = tmp_path+'training/'\n",
        "    tmp_path_test = tmp_path+'testing/'\n",
        "\n",
        "    os.mkdir(tmp_path)\n",
        "    os.mkdir(tmp_path_train)\n",
        "    os.mkdir(tmp_path_test)\n",
        "\n",
        "    for folder in ['cats/', 'dogs/']:\n",
        "      os.mkdir(tmp_path_train + folder)\n",
        "      os.mkdir(tmp_path_test + folder)\n",
        "except OSError:\n",
        "    pass"
      ],
      "execution_count": null,
      "outputs": []
    },
    {
      "cell_type": "code",
      "metadata": {
        "id": "zvSODo0f9LaU",
        "colab": {
          "base_uri": "https://localhost:8080/",
          "height": 50
        },
        "outputId": "7a0b0013-f7c3-4310-856c-25acb0915292"
      },
      "source": [
        "def split_data(SOURCE, TRAINING, TESTING, SPLIT_SIZE):\n",
        "  fnames = []\n",
        "\n",
        "  for name_image in os.listdir(SOURCE):\n",
        "    path_data = SOURCE + name_image\n",
        "    if os.path.getsize(path_data)>0:\n",
        "      fnames.append(name_image)\n",
        "    else:\n",
        "      print(name_image + 'is zero length, so ignoring')\n",
        "\n",
        "  train_size = int(len(fnames)*SPLIT_SIZE)\n",
        "  test_size = int(len(fnames)-train_size)\n",
        "\n",
        "  shuffled_fnames = random.sample(fnames, len(fnames))\n",
        "  train_fnames = shuffled_fnames[:train_size]\n",
        "  test_fnames = shuffled_fnames[-test_size:]\n",
        "\n",
        "  for train_fname in train_fnames:\n",
        "    copyfile(SOURCE+train_fname,TRAINING+train_fname)\n",
        "\n",
        "  for test_fname in test_fnames:\n",
        "    copyfile(SOURCE+test_fname,TESTING+test_fname)\n",
        "\n",
        "CAT_SOURCE_DIR = \"/tmp/PetImages/Cat/\"\n",
        "TRAINING_CATS_DIR = \"/tmp/cats-v-dogs/training/cats/\"\n",
        "TESTING_CATS_DIR = \"/tmp/cats-v-dogs/testing/cats/\"\n",
        "DOG_SOURCE_DIR = \"/tmp/PetImages/Dog/\"\n",
        "TRAINING_DOGS_DIR = \"/tmp/cats-v-dogs/training/dogs/\"\n",
        "TESTING_DOGS_DIR = \"/tmp/cats-v-dogs/testing/dogs/\"\n",
        "\n",
        "split_size = .9\n",
        "split_data(CAT_SOURCE_DIR, TRAINING_CATS_DIR, TESTING_CATS_DIR, split_size)\n",
        "split_data(DOG_SOURCE_DIR, TRAINING_DOGS_DIR, TESTING_DOGS_DIR, split_size)"
      ],
      "execution_count": null,
      "outputs": [
        {
          "output_type": "stream",
          "text": [
            "666.jpgis zero length, so ignoring\n",
            "11702.jpgis zero length, so ignoring\n"
          ],
          "name": "stdout"
        }
      ]
    },
    {
      "cell_type": "code",
      "metadata": {
        "id": "luthalB76ufC",
        "colab": {
          "base_uri": "https://localhost:8080/",
          "height": 84
        },
        "outputId": "7da3b903-0456-4245-b759-c10e781d7633"
      },
      "source": [
        "print(len(os.listdir('/tmp/cats-v-dogs/training/cats/')))\n",
        "print(len(os.listdir('/tmp/cats-v-dogs/training/dogs/')))\n",
        "print(len(os.listdir('/tmp/cats-v-dogs/testing/cats/')))\n",
        "print(len(os.listdir('/tmp/cats-v-dogs/testing/dogs/')))"
      ],
      "execution_count": null,
      "outputs": [
        {
          "output_type": "stream",
          "text": [
            "11250\n",
            "11250\n",
            "1250\n",
            "1250\n"
          ],
          "name": "stdout"
        }
      ]
    },
    {
      "cell_type": "code",
      "metadata": {
        "id": "-BQrav4anTmj"
      },
      "source": [
        "# Let's create a simple model\n",
        "model = tf.keras.models.Sequential([tf.keras.layers.Conv2D(16,(3,3),input_shape=(150,150,3), activation='relu'),\n",
        "                                    tf.keras.layers.MaxPool2D((2,2)),\n",
        "                                    tf.keras.layers.Conv2D(32,(3,3), activation='relu'),\n",
        "                                    tf.keras.layers.Flatten(),\n",
        "                                    tf.keras.layers.Dense(512, activation='relu'),\n",
        "                                    tf.keras.layers.Dense(1, activation='sigmoid')\n",
        "                                    ])\n",
        "\n",
        "model.compile(optimizer=RMSprop(lr=0.001), loss='binary_crossentropy', metrics=['accuracy'])"
      ],
      "execution_count": null,
      "outputs": []
    },
    {
      "cell_type": "code",
      "metadata": {
        "id": "ysIWYnZG6Zj0",
        "colab": {
          "base_uri": "https://localhost:8080/",
          "height": 353
        },
        "outputId": "4bb5e485-5537-46cb-8c53-fc801f1fcce2"
      },
      "source": [
        "model.summary()"
      ],
      "execution_count": null,
      "outputs": [
        {
          "output_type": "stream",
          "text": [
            "Model: \"sequential\"\n",
            "_________________________________________________________________\n",
            "Layer (type)                 Output Shape              Param #   \n",
            "=================================================================\n",
            "conv2d (Conv2D)              (None, 148, 148, 16)      448       \n",
            "_________________________________________________________________\n",
            "max_pooling2d (MaxPooling2D) (None, 74, 74, 16)        0         \n",
            "_________________________________________________________________\n",
            "conv2d_1 (Conv2D)            (None, 72, 72, 32)        4640      \n",
            "_________________________________________________________________\n",
            "flatten (Flatten)            (None, 165888)            0         \n",
            "_________________________________________________________________\n",
            "dense (Dense)                (None, 512)               84935168  \n",
            "_________________________________________________________________\n",
            "dense_1 (Dense)              (None, 1)                 513       \n",
            "=================================================================\n",
            "Total params: 84,940,769\n",
            "Trainable params: 84,940,769\n",
            "Non-trainable params: 0\n",
            "_________________________________________________________________\n"
          ],
          "name": "stdout"
        }
      ]
    },
    {
      "cell_type": "code",
      "metadata": {
        "id": "mlNjoJ5D61N6",
        "colab": {
          "base_uri": "https://localhost:8080/",
          "height": 50
        },
        "outputId": "b5ae99fe-530d-4df0-db58-3c9acaebbd97"
      },
      "source": [
        "# Use ImageDataGenerator to rescale our images and convert the images to batches for the model\n",
        "TRAINING_DIR = '/tmp/cats-v-dogs/training'\n",
        "train_datagen = ImageDataGenerator(rescale=1/255.)\n",
        "train_generator = train_datagen.flow_from_directory(TRAINING_DIR,\n",
        "                                                    target_size=(150,150),\n",
        "                                                    class_mode = 'binary',\n",
        "                                                    batch_size=10)\n",
        "\n",
        "VALIDATION_DIR = '/tmp/cats-v-dogs/testing' \n",
        "validation_datagen = ImageDataGenerator(rescale=1/255.)\n",
        "validation_generator = validation_datagen.flow_from_directory(VALIDATION_DIR,\n",
        "                                                              batch_size=10,\n",
        "                                                              target_size=(150,150),\n",
        "                                                              class_mode='binary')"
      ],
      "execution_count": null,
      "outputs": [
        {
          "output_type": "stream",
          "text": [
            "Found 22498 images belonging to 2 classes.\n",
            "Found 2500 images belonging to 2 classes.\n"
          ],
          "name": "stdout"
        }
      ]
    },
    {
      "cell_type": "code",
      "metadata": {
        "id": "KyS4n53w7DxC",
        "colab": {
          "base_uri": "https://localhost:8080/",
          "height": 826
        },
        "outputId": "1ec3d236-1d34-4ddc-96cb-7692a8c56e03"
      },
      "source": [
        "history = model.fit(train_generator,\n",
        "                    epochs=15,\n",
        "                    verbose=1,\n",
        "                    validation_data=validation_generator,\n",
        "                    steps_per_epoch = 2248,\n",
        "                    validation_steps = 250)"
      ],
      "execution_count": null,
      "outputs": [
        {
          "output_type": "stream",
          "text": [
            "Epoch 1/15\n",
            "   2/2248 [..............................] - ETA: 2:06 - loss: 2.8008 - accuracy: 0.5500WARNING:tensorflow:Callbacks method `on_train_batch_end` is slow compared to the batch time (batch time: 0.0271s vs `on_train_batch_end` time: 0.0673s). Check your callbacks.\n",
            "1083/2248 [=============>................] - ETA: 1:29 - loss: 0.7241 - accuracy: 0.6431"
          ],
          "name": "stdout"
        },
        {
          "output_type": "stream",
          "text": [
            "/usr/local/lib/python3.6/dist-packages/PIL/TiffImagePlugin.py:770: UserWarning: Possibly corrupt EXIF data.  Expecting to read 32 bytes but only got 0. Skipping tag 270\n",
            "  \" Skipping tag %s\" % (size, len(data), tag)\n",
            "/usr/local/lib/python3.6/dist-packages/PIL/TiffImagePlugin.py:770: UserWarning: Possibly corrupt EXIF data.  Expecting to read 5 bytes but only got 0. Skipping tag 271\n",
            "  \" Skipping tag %s\" % (size, len(data), tag)\n",
            "/usr/local/lib/python3.6/dist-packages/PIL/TiffImagePlugin.py:770: UserWarning: Possibly corrupt EXIF data.  Expecting to read 8 bytes but only got 0. Skipping tag 272\n",
            "  \" Skipping tag %s\" % (size, len(data), tag)\n",
            "/usr/local/lib/python3.6/dist-packages/PIL/TiffImagePlugin.py:770: UserWarning: Possibly corrupt EXIF data.  Expecting to read 8 bytes but only got 0. Skipping tag 282\n",
            "  \" Skipping tag %s\" % (size, len(data), tag)\n",
            "/usr/local/lib/python3.6/dist-packages/PIL/TiffImagePlugin.py:770: UserWarning: Possibly corrupt EXIF data.  Expecting to read 8 bytes but only got 0. Skipping tag 283\n",
            "  \" Skipping tag %s\" % (size, len(data), tag)\n",
            "/usr/local/lib/python3.6/dist-packages/PIL/TiffImagePlugin.py:770: UserWarning: Possibly corrupt EXIF data.  Expecting to read 20 bytes but only got 0. Skipping tag 306\n",
            "  \" Skipping tag %s\" % (size, len(data), tag)\n",
            "/usr/local/lib/python3.6/dist-packages/PIL/TiffImagePlugin.py:770: UserWarning: Possibly corrupt EXIF data.  Expecting to read 48 bytes but only got 0. Skipping tag 532\n",
            "  \" Skipping tag %s\" % (size, len(data), tag)\n",
            "/usr/local/lib/python3.6/dist-packages/PIL/TiffImagePlugin.py:788: UserWarning: Corrupt EXIF data.  Expecting to read 2 bytes but only got 0. \n",
            "  warnings.warn(str(msg))\n"
          ],
          "name": "stderr"
        },
        {
          "output_type": "stream",
          "text": [
            "2248/2248 [==============================] - 182s 81ms/step - loss: 0.6593 - accuracy: 0.6699 - val_loss: 0.5514 - val_accuracy: 0.7196\n",
            "Epoch 2/15\n",
            "2248/2248 [==============================] - 182s 81ms/step - loss: 0.5316 - accuracy: 0.7483 - val_loss: 0.5782 - val_accuracy: 0.7044\n",
            "Epoch 3/15\n",
            "2248/2248 [==============================] - 182s 81ms/step - loss: 0.4821 - accuracy: 0.7863 - val_loss: 0.5728 - val_accuracy: 0.7624\n",
            "Epoch 4/15\n",
            "2248/2248 [==============================] - 182s 81ms/step - loss: 0.4460 - accuracy: 0.8120 - val_loss: 0.5852 - val_accuracy: 0.7432\n",
            "Epoch 5/15\n",
            "2248/2248 [==============================] - 182s 81ms/step - loss: 0.4052 - accuracy: 0.8335 - val_loss: 0.5416 - val_accuracy: 0.7392\n",
            "Epoch 6/15\n",
            "2248/2248 [==============================] - 181s 81ms/step - loss: 0.3666 - accuracy: 0.8574 - val_loss: 0.7223 - val_accuracy: 0.7444\n",
            "Epoch 7/15\n",
            "2248/2248 [==============================] - 181s 81ms/step - loss: 0.3325 - accuracy: 0.8749 - val_loss: 1.2508 - val_accuracy: 0.6924\n",
            "Epoch 8/15\n",
            "2248/2248 [==============================] - 181s 81ms/step - loss: 0.2932 - accuracy: 0.8941 - val_loss: 0.9039 - val_accuracy: 0.7400\n",
            "Epoch 9/15\n",
            "2248/2248 [==============================] - 181s 81ms/step - loss: 0.2611 - accuracy: 0.9083 - val_loss: 0.7640 - val_accuracy: 0.7212\n",
            "Epoch 10/15\n",
            "2248/2248 [==============================] - 181s 81ms/step - loss: 0.2179 - accuracy: 0.9260 - val_loss: 1.1098 - val_accuracy: 0.7304\n",
            "Epoch 11/15\n",
            "2248/2248 [==============================] - 181s 80ms/step - loss: 0.2226 - accuracy: 0.9345 - val_loss: 1.3975 - val_accuracy: 0.6656\n",
            "Epoch 12/15\n",
            "2248/2248 [==============================] - 181s 81ms/step - loss: 0.1902 - accuracy: 0.9444 - val_loss: 1.6313 - val_accuracy: 0.7160\n",
            "Epoch 13/15\n",
            "2248/2248 [==============================] - 181s 80ms/step - loss: 0.1692 - accuracy: 0.9547 - val_loss: 1.6522 - val_accuracy: 0.7216\n",
            "Epoch 14/15\n",
            "2248/2248 [==============================] - 181s 80ms/step - loss: 0.1479 - accuracy: 0.9615 - val_loss: 2.0624 - val_accuracy: 0.7232\n",
            "Epoch 15/15\n",
            "2248/2248 [==============================] - 181s 81ms/step - loss: 0.1264 - accuracy: 0.9683 - val_loss: 2.5677 - val_accuracy: 0.7332\n"
          ],
          "name": "stdout"
        }
      ]
    },
    {
      "cell_type": "code",
      "metadata": {
        "id": "MWZrJN4-65RC",
        "colab": {
          "base_uri": "https://localhost:8080/",
          "height": 281
        },
        "outputId": "74bb5d6b-63e7-421e-dbe8-4d8e2f3aaf21"
      },
      "source": [
        "%matplotlib inline\n",
        "\n",
        "import matplotlib.image  as mpimg\n",
        "import matplotlib.pyplot as plt\n",
        "\n",
        "# Let's write function to plot train's/test's accuracy and loss\n",
        "def plot_acc_and_loss(history):\n",
        "\n",
        "  acc=history.history['accuracy']\n",
        "  val_acc=history.history['val_accuracy']\n",
        "  loss=history.history['loss']\n",
        "  val_loss=history.history['val_loss']\n",
        "\n",
        "  epochs=range(len(acc))\n",
        "\n",
        "  figures,axes = plt.subplots(1,2, figsize = (14,4))\n",
        "\n",
        "  axes[0].plot(epochs, acc, 'r', label = \"Training Accuracy\")\n",
        "  axes[0].plot(epochs, val_acc, 'b', label = \"Validation Accuracy\")\n",
        "  axes[0].set_title('Training and validation accuracy')\n",
        "  axes[0].legend()\n",
        "  axes[0].grid()\n",
        "\n",
        "  axes[1].plot(epochs, loss, 'r', label = \"Training Loss\")\n",
        "  axes[1].plot(epochs, val_loss, 'b', label = \"Validation Loss\")\n",
        "  axes[1].set_title('Training and validation loss')\n",
        "  axes[1].legend()\n",
        "\n",
        "plot_acc_and_loss(history)"
      ],
      "execution_count": null,
      "outputs": [
        {
          "output_type": "display_data",
          "data": {
            "image/png": "[encoded data removed]",
            "text/plain": [
              "<Figure size 1008x288 with 2 Axes>"
            ]
          },
          "metadata": {
            "tags": [],
            "needs_background": "light"
          }
        }
      ]
    },
    {
      "cell_type": "code",
      "metadata": {
        "id": "FcM97LvKWC8d"
      },
      "source": [
        "# Now, we improve the model. Adding some convolution's layers will help our model to detect more difficult relation\n",
        "more_dif_model = tf.keras.models.Sequential([tf.keras.layers.Conv2D(16,(3,3),input_shape=(150,150,3), activation='relu'),\n",
        "                                             tf.keras.layers.Conv2D(16,(3,3), activation = 'relu'),\n",
        "                                             tf.keras.layers.MaxPool2D((2,2)),\n",
        "                                             tf.keras.layers.Conv2D(32,(3,3), activation='relu'),\n",
        "                                             tf.keras.layers.Conv2D(32, (3,3), activation = 'relu'),\n",
        "                                             tf.keras.layers.MaxPool2D((2,2)),\n",
        "                                             tf.keras.layers.Conv2D(64, (3,3), activation = 'relu'),\n",
        "                                             tf.keras.layers.Flatten(),\n",
        "                                             tf.keras.layers.Dense(512, activation='relu'),\n",
        "                                             tf.keras.layers.Dense(1, activation='sigmoid')\n",
        "                                             ])\n",
        "\n",
        "more_dif_model.compile(optimizer=RMSprop(lr=0.001), loss='binary_crossentropy', metrics=['accuracy'])"
      ],
      "execution_count": null,
      "outputs": []
    },
    {
      "cell_type": "code",
      "metadata": {
        "id": "Vx4NuK80XYgl",
        "colab": {
          "base_uri": "https://localhost:8080/",
          "height": 487
        },
        "outputId": "439e65f1-bdfc-4891-ae67-13af4e4f3360"
      },
      "source": [
        "more_dif_model.summary()"
      ],
      "execution_count": null,
      "outputs": [
        {
          "output_type": "stream",
          "text": [
            "Model: \"sequential_1\"\n",
            "_________________________________________________________________\n",
            "Layer (type)                 Output Shape              Param #   \n",
            "=================================================================\n",
            "conv2d_5 (Conv2D)            (None, 148, 148, 16)      448       \n",
            "_________________________________________________________________\n",
            "conv2d_6 (Conv2D)            (None, 146, 146, 16)      2320      \n",
            "_________________________________________________________________\n",
            "max_pooling2d_2 (MaxPooling2 (None, 73, 73, 16)        0         \n",
            "_________________________________________________________________\n",
            "conv2d_7 (Conv2D)            (None, 71, 71, 32)        4640      \n",
            "_________________________________________________________________\n",
            "conv2d_8 (Conv2D)            (None, 69, 69, 32)        9248      \n",
            "_________________________________________________________________\n",
            "max_pooling2d_3 (MaxPooling2 (None, 34, 34, 32)        0         \n",
            "_________________________________________________________________\n",
            "conv2d_9 (Conv2D)            (None, 32, 32, 64)        18496     \n",
            "_________________________________________________________________\n",
            "flatten_1 (Flatten)          (None, 65536)             0         \n",
            "_________________________________________________________________\n",
            "dense_2 (Dense)              (None, 512)               33554944  \n",
            "_________________________________________________________________\n",
            "dense_3 (Dense)              (None, 1)                 513       \n",
            "=================================================================\n",
            "Total params: 33,590,609\n",
            "Trainable params: 33,590,609\n",
            "Non-trainable params: 0\n",
            "_________________________________________________________________\n"
          ],
          "name": "stdout"
        }
      ]
    },
    {
      "cell_type": "code",
      "metadata": {
        "id": "fAmSEqvpXjj7",
        "colab": {
          "base_uri": "https://localhost:8080/",
          "height": 826
        },
        "outputId": "93a55cb5-dd26-40da-e11a-74350f031ed3"
      },
      "source": [
        "history_of_more_dif = more_dif_model.fit(train_generator,\n",
        "                                         epochs=15,\n",
        "                                         verbose=1,\n",
        "                                         validation_data=validation_generator,\n",
        "                                         steps_per_epoch = 2248,\n",
        "                                         validation_steps = 250)"
      ],
      "execution_count": null,
      "outputs": [
        {
          "output_type": "stream",
          "text": [
            "Epoch 1/15\n",
            "   1/2248 [..............................] - ETA: 1s - loss: 0.6931 - accuracy: 0.6000WARNING:tensorflow:Callbacks method `on_train_batch_end` is slow compared to the batch time (batch time: 0.0089s vs `on_train_batch_end` time: 0.0183s). Check your callbacks.\n",
            "1130/2248 [==============>...............] - ETA: 44s - loss: 0.6530 - accuracy: 0.6448"
          ],
          "name": "stdout"
        },
        {
          "output_type": "stream",
          "text": [
            "/usr/local/lib/python3.6/dist-packages/PIL/TiffImagePlugin.py:770: UserWarning: Possibly corrupt EXIF data.  Expecting to read 32 bytes but only got 0. Skipping tag 270\n",
            "  \" Skipping tag %s\" % (size, len(data), tag)\n",
            "/usr/local/lib/python3.6/dist-packages/PIL/TiffImagePlugin.py:770: UserWarning: Possibly corrupt EXIF data.  Expecting to read 5 bytes but only got 0. Skipping tag 271\n",
            "  \" Skipping tag %s\" % (size, len(data), tag)\n",
            "/usr/local/lib/python3.6/dist-packages/PIL/TiffImagePlugin.py:770: UserWarning: Possibly corrupt EXIF data.  Expecting to read 8 bytes but only got 0. Skipping tag 272\n",
            "  \" Skipping tag %s\" % (size, len(data), tag)\n",
            "/usr/local/lib/python3.6/dist-packages/PIL/TiffImagePlugin.py:770: UserWarning: Possibly corrupt EXIF data.  Expecting to read 8 bytes but only got 0. Skipping tag 282\n",
            "  \" Skipping tag %s\" % (size, len(data), tag)\n",
            "/usr/local/lib/python3.6/dist-packages/PIL/TiffImagePlugin.py:770: UserWarning: Possibly corrupt EXIF data.  Expecting to read 8 bytes but only got 0. Skipping tag 283\n",
            "  \" Skipping tag %s\" % (size, len(data), tag)\n",
            "/usr/local/lib/python3.6/dist-packages/PIL/TiffImagePlugin.py:770: UserWarning: Possibly corrupt EXIF data.  Expecting to read 20 bytes but only got 0. Skipping tag 306\n",
            "  \" Skipping tag %s\" % (size, len(data), tag)\n",
            "/usr/local/lib/python3.6/dist-packages/PIL/TiffImagePlugin.py:770: UserWarning: Possibly corrupt EXIF data.  Expecting to read 48 bytes but only got 0. Skipping tag 532\n",
            "  \" Skipping tag %s\" % (size, len(data), tag)\n",
            "/usr/local/lib/python3.6/dist-packages/PIL/TiffImagePlugin.py:788: UserWarning: Corrupt EXIF data.  Expecting to read 2 bytes but only got 0. \n",
            "  warnings.warn(str(msg))\n"
          ],
          "name": "stderr"
        },
        {
          "output_type": "stream",
          "text": [
            "2248/2248 [==============================] - 96s 43ms/step - loss: 0.6029 - accuracy: 0.6842 - val_loss: 0.4878 - val_accuracy: 0.7608\n",
            "Epoch 2/15\n",
            "2248/2248 [==============================] - 92s 41ms/step - loss: 0.4898 - accuracy: 0.7757 - val_loss: 0.5138 - val_accuracy: 0.7636\n",
            "Epoch 3/15\n",
            "2248/2248 [==============================] - 90s 40ms/step - loss: 0.4491 - accuracy: 0.8012 - val_loss: 0.4266 - val_accuracy: 0.8092\n",
            "Epoch 4/15\n",
            "2248/2248 [==============================] - 91s 40ms/step - loss: 0.4270 - accuracy: 0.8156 - val_loss: 0.4993 - val_accuracy: 0.8212\n",
            "Epoch 5/15\n",
            "2248/2248 [==============================] - 92s 41ms/step - loss: 0.4124 - accuracy: 0.8290 - val_loss: 0.4850 - val_accuracy: 0.7744\n",
            "Epoch 6/15\n",
            "2248/2248 [==============================] - 93s 41ms/step - loss: 0.3976 - accuracy: 0.8369 - val_loss: 0.3760 - val_accuracy: 0.8400\n",
            "Epoch 7/15\n",
            "2248/2248 [==============================] - 92s 41ms/step - loss: 0.3843 - accuracy: 0.8455 - val_loss: 1.2413 - val_accuracy: 0.6564\n",
            "Epoch 8/15\n",
            "2248/2248 [==============================] - 93s 41ms/step - loss: 0.3695 - accuracy: 0.8488 - val_loss: 0.3867 - val_accuracy: 0.8500\n",
            "Epoch 9/15\n",
            "2248/2248 [==============================] - 93s 41ms/step - loss: 0.3644 - accuracy: 0.8523 - val_loss: 0.7160 - val_accuracy: 0.8420\n",
            "Epoch 10/15\n",
            "2248/2248 [==============================] - 93s 41ms/step - loss: 0.3657 - accuracy: 0.8550 - val_loss: 0.3932 - val_accuracy: 0.8500\n",
            "Epoch 11/15\n",
            "2248/2248 [==============================] - 94s 42ms/step - loss: 0.3647 - accuracy: 0.8573 - val_loss: 0.4119 - val_accuracy: 0.8196\n",
            "Epoch 12/15\n",
            "2248/2248 [==============================] - 94s 42ms/step - loss: 0.3671 - accuracy: 0.8589 - val_loss: 0.3898 - val_accuracy: 0.8448\n",
            "Epoch 13/15\n",
            "2248/2248 [==============================] - 93s 41ms/step - loss: 0.3744 - accuracy: 0.8558 - val_loss: 0.3711 - val_accuracy: 0.8500\n",
            "Epoch 14/15\n",
            "2248/2248 [==============================] - 93s 41ms/step - loss: 0.3873 - accuracy: 0.8588 - val_loss: 0.3256 - val_accuracy: 0.8692\n",
            "Epoch 15/15\n",
            "2248/2248 [==============================] - 92s 41ms/step - loss: 0.3847 - accuracy: 0.8562 - val_loss: 0.3804 - val_accuracy: 0.8372\n"
          ],
          "name": "stdout"
        }
      ]
    },
    {
      "cell_type": "code",
      "metadata": {
        "id": "F0lVFU2EX-aL",
        "colab": {
          "base_uri": "https://localhost:8080/",
          "height": 545
        },
        "outputId": "b52f7135-0e32-4ab4-be2e-4abc75f274b6"
      },
      "source": [
        "plot_acc_and_loss(history_of_more_dif)"
      ],
      "execution_count": null,
      "outputs": [
        {
          "output_type": "display_data",
          "data": {
            "image/png": "[encoded data removed]",
            "text/plain": [
              "<Figure size 432x288 with 1 Axes>"
            ]
          },
          "metadata": {
            "tags": [],
            "needs_background": "light"
          }
        },
        {
          "output_type": "display_data",
          "data": {
            "image/png": "[encoded data removed]",
            "text/plain": [
              "<Figure size 432x288 with 1 Axes>"
            ]
          },
          "metadata": {
            "tags": [],
            "needs_background": "light"
          }
        }
      ]
    },
    {
      "cell_type": "code",
      "metadata": {
        "id": "jWAIuiMfgD4s",
        "colab": {
          "base_uri": "https://localhost:8080/",
          "height": 826
        },
        "outputId": "2678d6c7-ef29-4493-b542-ffacececf6c4"
      },
      "source": [
        "# Now we will use data augmentation to avoid overfitting, but let's look at the result.\n",
        "train_datagen_with_augmentation = ImageDataGenerator(rescale=1/255.,\n",
        "                                                     zoom_range=0.2,\n",
        "                                                     horizontal_flip=True,\n",
        "                                                     rotation_range=45,\n",
        "                                                     width_shift_range=0.2,\n",
        "                                                     height_shift_range=0.2,\n",
        "                                                     shear_range=0.2)\n",
        "\n",
        "train_generator_with_augmentation = train_datagen_with_augmentation.flow_from_directory(TRAINING_DIR,\n",
        "                                                                                        target_size=(150,150),\n",
        "                                                                                        class_mode = 'binary',\n",
        "                                                                                        batch_size=10)\n",
        "\n",
        "history_of_model_with_augmentation = model.fit(train_generator_with_augmentation,\n",
        "                                               epochs=15,\n",
        "                                               verbose=1,\n",
        "                                               validation_data=validation_generator,\n",
        "                                               steps_per_epoch = 2248,\n",
        "                                               validation_steps = 250)"
      ],
      "execution_count": null,
      "outputs": [
        {
          "output_type": "stream",
          "text": [
            "Found 22498 images belonging to 2 classes.\n",
            "Epoch 1/15\n",
            "1615/2248 [====================>.........] - ETA: 54s - loss: 0.6934 - accuracy: 0.6146"
          ],
          "name": "stdout"
        },
        {
          "output_type": "stream",
          "text": [
            "/usr/local/lib/python3.6/dist-packages/PIL/TiffImagePlugin.py:770: UserWarning: Possibly corrupt EXIF data.  Expecting to read 32 bytes but only got 0. Skipping tag 270\n",
            "  \" Skipping tag %s\" % (size, len(data), tag)\n",
            "/usr/local/lib/python3.6/dist-packages/PIL/TiffImagePlugin.py:770: UserWarning: Possibly corrupt EXIF data.  Expecting to read 5 bytes but only got 0. Skipping tag 271\n",
            "  \" Skipping tag %s\" % (size, len(data), tag)\n",
            "/usr/local/lib/python3.6/dist-packages/PIL/TiffImagePlugin.py:770: UserWarning: Possibly corrupt EXIF data.  Expecting to read 8 bytes but only got 0. Skipping tag 272\n",
            "  \" Skipping tag %s\" % (size, len(data), tag)\n",
            "/usr/local/lib/python3.6/dist-packages/PIL/TiffImagePlugin.py:770: UserWarning: Possibly corrupt EXIF data.  Expecting to read 8 bytes but only got 0. Skipping tag 282\n",
            "  \" Skipping tag %s\" % (size, len(data), tag)\n",
            "/usr/local/lib/python3.6/dist-packages/PIL/TiffImagePlugin.py:770: UserWarning: Possibly corrupt EXIF data.  Expecting to read 8 bytes but only got 0. Skipping tag 283\n",
            "  \" Skipping tag %s\" % (size, len(data), tag)\n",
            "/usr/local/lib/python3.6/dist-packages/PIL/TiffImagePlugin.py:770: UserWarning: Possibly corrupt EXIF data.  Expecting to read 20 bytes but only got 0. Skipping tag 306\n",
            "  \" Skipping tag %s\" % (size, len(data), tag)\n",
            "/usr/local/lib/python3.6/dist-packages/PIL/TiffImagePlugin.py:770: UserWarning: Possibly corrupt EXIF data.  Expecting to read 48 bytes but only got 0. Skipping tag 532\n",
            "  \" Skipping tag %s\" % (size, len(data), tag)\n",
            "/usr/local/lib/python3.6/dist-packages/PIL/TiffImagePlugin.py:788: UserWarning: Corrupt EXIF data.  Expecting to read 2 bytes but only got 0. \n",
            "  warnings.warn(str(msg))\n"
          ],
          "name": "stderr"
        },
        {
          "output_type": "stream",
          "text": [
            "2248/2248 [==============================] - 201s 89ms/step - loss: 0.6841 - accuracy: 0.6229 - val_loss: 0.5670 - val_accuracy: 0.7188\n",
            "Epoch 2/15\n",
            "2248/2248 [==============================] - 201s 90ms/step - loss: 0.6539 - accuracy: 0.6537 - val_loss: 0.5594 - val_accuracy: 0.7124\n",
            "Epoch 3/15\n",
            "2248/2248 [==============================] - 204s 91ms/step - loss: 0.6866 - accuracy: 0.6686 - val_loss: 0.5376 - val_accuracy: 0.7396\n",
            "Epoch 4/15\n",
            "2248/2248 [==============================] - 205s 91ms/step - loss: 0.6235 - accuracy: 0.6728 - val_loss: 0.5823 - val_accuracy: 0.7128\n",
            "Epoch 5/15\n",
            "2248/2248 [==============================] - 204s 91ms/step - loss: 0.6210 - accuracy: 0.6800 - val_loss: 0.5478 - val_accuracy: 0.7232\n",
            "Epoch 6/15\n",
            "2248/2248 [==============================] - 205s 91ms/step - loss: 0.6108 - accuracy: 0.6901 - val_loss: 0.5340 - val_accuracy: 0.7292\n",
            "Epoch 7/15\n",
            "2248/2248 [==============================] - 208s 92ms/step - loss: 0.6101 - accuracy: 0.6923 - val_loss: 0.5411 - val_accuracy: 0.7436\n",
            "Epoch 8/15\n",
            "2248/2248 [==============================] - 209s 93ms/step - loss: 0.6128 - accuracy: 0.6941 - val_loss: 0.4973 - val_accuracy: 0.7792\n",
            "Epoch 9/15\n",
            "2248/2248 [==============================] - 207s 92ms/step - loss: 0.5977 - accuracy: 0.6996 - val_loss: 0.7176 - val_accuracy: 0.6616\n",
            "Epoch 10/15\n",
            "2248/2248 [==============================] - 207s 92ms/step - loss: 0.6089 - accuracy: 0.6981 - val_loss: 0.5117 - val_accuracy: 0.7728\n",
            "Epoch 11/15\n",
            "2248/2248 [==============================] - 205s 91ms/step - loss: 0.5985 - accuracy: 0.7014 - val_loss: 0.5999 - val_accuracy: 0.7700\n",
            "Epoch 12/15\n",
            "2248/2248 [==============================] - 206s 92ms/step - loss: 0.6055 - accuracy: 0.6966 - val_loss: 0.5355 - val_accuracy: 0.7404\n",
            "Epoch 13/15\n",
            "2248/2248 [==============================] - 202s 90ms/step - loss: 0.5932 - accuracy: 0.7012 - val_loss: 0.4939 - val_accuracy: 0.7736\n",
            "Epoch 14/15\n",
            "2248/2248 [==============================] - 200s 89ms/step - loss: 0.5985 - accuracy: 0.6995 - val_loss: 0.4952 - val_accuracy: 0.7700\n",
            "Epoch 15/15\n",
            "2248/2248 [==============================] - 204s 91ms/step - loss: 0.6034 - accuracy: 0.6980 - val_loss: 0.5134 - val_accuracy: 0.7488\n"
          ],
          "name": "stdout"
        }
      ]
    },
    {
      "cell_type": "markdown",
      "metadata": {
        "id": "UmE-C7EG-Kex"
      },
      "source": [
        "As you can see our model perfomces worse result than even the simple model. It's can be if validation data has the same data as the train data, but after augmentation the train data has been changed and our model can't generalize."
      ]
    },
    {
      "cell_type": "code",
      "metadata": {
        "id": "KKAdYINOBTIX"
      },
      "source": [
        ""
      ],
      "execution_count": null,
      "outputs": []
    }
  ]
}