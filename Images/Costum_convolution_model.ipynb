{
  "nbformat": 4,
  "nbformat_minor": 0,
  "metadata": {
    "colab": {
      "name": "Costum convolution model",
      "provenance": [],
      "collapsed_sections": [],
      "authorship_tag": "ABX9TyNptaEkyCqif6y/Qf0lzc4p",
      "include_colab_link": true
    },
    "kernelspec": {
      "name": "python3",
      "display_name": "Python 3"
    }
  },
  "cells": [
    {
      "cell_type": "markdown",
      "metadata": {
        "id": "view-in-github",
        "colab_type": "text"
      },
      "source": [
        "<a href=\"https://colab.research.google.com/github/Pipickin/Tensorflow/blob/main/Images/Costum_convolution_model.ipynb\" target=\"_parent\"><img src=\"https://colab.research.google.com/assets/colab-badge.svg\" alt=\"Open In Colab\"/></a>"
      ]
    },
    {
      "cell_type": "code",
      "metadata": {
        "id": "8_dLHolihaTG"
      },
      "source": [
        "import numpy as np\r\n",
        "import matplotlib.pyplot as plt\r\n",
        "\r\n",
        "np.random.seed(1)"
      ],
      "execution_count": 1,
      "outputs": []
    },
    {
      "cell_type": "markdown",
      "metadata": {
        "id": "t-_pebbwiwl4"
      },
      "source": [
        "## Zero Padding"
      ]
    },
    {
      "cell_type": "code",
      "metadata": {
        "id": "Wg8ui-ntihoy"
      },
      "source": [
        "def zero_pad(X, pad):\r\n",
        "    \"\"\"\r\n",
        "    Pad with zeros all images of the dataset X. The padding is applied to the height and width of an image, \r\n",
        "    as illustrated in Figure 1.\r\n",
        "    \r\n",
        "    Argument:\r\n",
        "    X -- python numpy array of shape (m, n_H, n_W, n_C) representing a batch of m images\r\n",
        "    pad -- integer, amount of padding around each image on vertical and horizontal dimensions\r\n",
        "    \r\n",
        "    Returns:\r\n",
        "    X_pad -- padded image of shape (m, n_H + 2*pad, n_W + 2*pad, n_C)\r\n",
        "    \"\"\"\r\n",
        "    \r\n",
        "    X_pad = np.pad(X, ((0,0),(pad,pad),(pad,pad),(0,0)), 'constant', constant_values = 0)\r\n",
        "    \r\n",
        "    return X_pad"
      ],
      "execution_count": 2,
      "outputs": []
    },
    {
      "cell_type": "code",
      "metadata": {
        "colab": {
          "base_uri": "https://localhost:8080/",
          "height": 502
        },
        "id": "uLs8TndJinQl",
        "outputId": "54762da2-5606-49ec-c5f2-283784be1606"
      },
      "source": [
        "np.random.seed(1)\r\n",
        "x = np.random.randn(4, 3, 3, 2)\r\n",
        "x_pad = zero_pad(x, 2)\r\n",
        "print (\"x.shape =\\n\", x.shape)\r\n",
        "print (\"x_pad.shape =\\n\", x_pad.shape)\r\n",
        "print (\"x[1,1] =\\n\", x[1,1])\r\n",
        "print (\"x_pad[1,1] =\\n\", x_pad[1,1])\r\n",
        "\r\n",
        "fig, axarr = plt.subplots(1, 2)\r\n",
        "axarr[0].set_title('x')\r\n",
        "axarr[0].imshow(x[0,:,:,0])\r\n",
        "axarr[1].set_title('x_pad')\r\n",
        "axarr[1].imshow(x_pad[0,:,:,0])"
      ],
      "execution_count": 3,
      "outputs": [
        {
          "output_type": "stream",
          "text": [
            "x.shape =\n",
            " (4, 3, 3, 2)\n",
            "x_pad.shape =\n",
            " (4, 7, 7, 2)\n",
            "x[1,1] =\n",
            " [[ 0.90085595 -0.68372786]\n",
            " [-0.12289023 -0.93576943]\n",
            " [-0.26788808  0.53035547]]\n",
            "x_pad[1,1] =\n",
            " [[0. 0.]\n",
            " [0. 0.]\n",
            " [0. 0.]\n",
            " [0. 0.]\n",
            " [0. 0.]\n",
            " [0. 0.]\n",
            " [0. 0.]]\n"
          ],
          "name": "stdout"
        },
        {
          "output_type": "execute_result",
          "data": {
            "text/plain": [
              "<matplotlib.image.AxesImage at 0x7fa82a7670b8>"
            ]
          },
          "metadata": {
            "tags": []
          },
          "execution_count": 3
        },
        {
          "output_type": "display_data",
          "data": {
            "image/png": "[encoded data removed]",
            "text/plain": [
              "<Figure size 432x288 with 2 Axes>"
            ]
          },
          "metadata": {
            "tags": [],
            "needs_background": "light"
          }
        }
      ]
    },
    {
      "cell_type": "markdown",
      "metadata": {
        "id": "2JRKQUHXipas"
      },
      "source": [
        "##Single step of convolution"
      ]
    },
    {
      "cell_type": "code",
      "metadata": {
        "id": "S-8MzZYyi-qF"
      },
      "source": [
        "def conv_single_step(a_slice_prev, W, b):\r\n",
        "    \"\"\"\r\n",
        "    Apply one filter defined by parameters W on a single slice (a_slice_prev) of the output activation \r\n",
        "    of the previous layer.\r\n",
        "    \r\n",
        "    Arguments:\r\n",
        "    a_slice_prev -- slice of input data of shape (f, f, n_C_prev)\r\n",
        "    W -- Weight parameters contained in a window - matrix of shape (f, f, n_C_prev)\r\n",
        "    b -- Bias parameters contained in a window - matrix of shape (1, 1, 1)\r\n",
        "    \r\n",
        "    Returns:\r\n",
        "    Z -- a scalar value, the result of convolving the sliding window (W, b) on a slice x of the input data\r\n",
        "    \"\"\"\r\n",
        "\r\n",
        "    # Element-wise product between a_slice_prev and W. Do not add the bias yet.\r\n",
        "    s = np.multiply(a_slice_prev,W)\r\n",
        "    # Sum over all entries of the volume s.\r\n",
        "    Z = np.sum(s)\r\n",
        "    # Add bias b to Z. Cast b to a float() so that Z results in a scalar value.\r\n",
        "    Z = Z + float(b)\r\n",
        "\r\n",
        "    return Z"
      ],
      "execution_count": 4,
      "outputs": []
    },
    {
      "cell_type": "code",
      "metadata": {
        "colab": {
          "base_uri": "https://localhost:8080/"
        },
        "id": "rBOBKAjTjEty",
        "outputId": "eba54377-e7a7-43f4-8b09-baa780480158"
      },
      "source": [
        "np.random.seed(1)\r\n",
        "a_slice_prev = np.random.randn(4, 4, 3)\r\n",
        "W = np.random.randn(4, 4, 3)\r\n",
        "b = np.random.randn(1, 1, 1)\r\n",
        "\r\n",
        "Z = conv_single_step(a_slice_prev, W, b)\r\n",
        "print(\"Z =\", Z)"
      ],
      "execution_count": 5,
      "outputs": [
        {
          "output_type": "stream",
          "text": [
            "Z = -6.999089450680221\n"
          ],
          "name": "stdout"
        }
      ]
    },
    {
      "cell_type": "markdown",
      "metadata": {
        "id": "6V_5Ama7jGdD"
      },
      "source": [
        "##Forward pass"
      ]
    },
    {
      "cell_type": "code",
      "metadata": {
        "id": "Jx4jH7vejNF0"
      },
      "source": [
        "def conv_forward(A_prev, W, b, hparameters):\r\n",
        "    \"\"\"\r\n",
        "    Implements the forward propagation for a convolution function\r\n",
        "    \r\n",
        "    Arguments:\r\n",
        "    A_prev -- output activations of the previous layer, \r\n",
        "        numpy array of shape (m, n_H_prev, n_W_prev, n_C_prev)\r\n",
        "    W -- Weights, numpy array of shape (f, f, n_C_prev, n_C)\r\n",
        "    b -- Biases, numpy array of shape (1, 1, 1, n_C)\r\n",
        "    hparameters -- python dictionary containing \"stride\" and \"pad\"\r\n",
        "        \r\n",
        "    Returns:\r\n",
        "    Z -- conv output, numpy array of shape (m, n_H, n_W, n_C)\r\n",
        "    cache -- cache of values needed for the conv_backward() function\r\n",
        "    \"\"\"\r\n",
        "    \r\n",
        "    # Retrieve dimensions from A_prev's shape   \r\n",
        "    (m, n_H_prev, n_W_prev, n_C_prev) = A_prev.shape\r\n",
        "    \r\n",
        "    # Retrieve dimensions from W's shape \r\n",
        "    (f, f, n_C_prev, n_C) = W.shape\r\n",
        "    \r\n",
        "    # Retrieve information from \"hparameters\"\r\n",
        "    stride = hparameters['stride']\r\n",
        "    pad = hparameters['pad']\r\n",
        "    \r\n",
        "    # Compute the dimensions of the CONV output volume using the formula given above.\r\n",
        "    n_H = int((n_H_prev - f + 2*pad)/(stride) + 1)\r\n",
        "    n_W = int((n_W_prev - f + 2*pad)/(stride) + 1)\r\n",
        "    \r\n",
        "    # Initialize the output volume Z with zeros. \r\n",
        "    Z = np.zeros((m,n_H,n_W,n_C))\r\n",
        "    \r\n",
        "    # Create A_prev_pad by padding A_prev\r\n",
        "    A_prev_pad = zero_pad(A_prev, pad)\r\n",
        "    \r\n",
        "    for i in range(m):               # loop over the batch of training examples\r\n",
        "        a_prev_pad = A_prev_pad[i]               # Select ith training example's padded activation\r\n",
        "        for h in range(n_H):           # loop over vertical axis of the output volume\r\n",
        "            # Find the vertical start and end of the current \"slice\"\r\n",
        "            vert_start = stride*h\r\n",
        "            vert_end = stride*h+f\r\n",
        "            \r\n",
        "            for w in range(n_W):       # loop over horizontal axis of the output volume\r\n",
        "                # Find the horizontal start and end of the current \"slice\"\r\n",
        "                horiz_start = stride*w\r\n",
        "                horiz_end = stride*w+f\r\n",
        "                \r\n",
        "                for c in range(n_C):   \r\n",
        "                    # Use the corners to define the (3D) slice of a_prev_pad .\r\n",
        "                    a_slice_prev = a_prev_pad[vert_start:vert_end, horiz_start:horiz_end,:]\r\n",
        "                    \r\n",
        "                    # Convolve the (3D) slice with the correct filter W and bias b, to get back one output neuron. \r\n",
        "                    weights = W[:,:,:,c]\r\n",
        "                    biases = b[0,0,0,c]\r\n",
        "                    Z[i, h, w, c] = conv_single_step(a_slice_prev, weights, biases)\r\n",
        "                                        \r\n",
        "    assert(Z.shape == (m, n_H, n_W, n_C))\r\n",
        "    # Save information in \"cache\" for the backprop\r\n",
        "    cache = (A_prev, W, b, hparameters)\r\n",
        "    \r\n",
        "    return Z, cache"
      ],
      "execution_count": 7,
      "outputs": []
    },
    {
      "cell_type": "code",
      "metadata": {
        "colab": {
          "base_uri": "https://localhost:8080/"
        },
        "id": "6O-3il80jQ11",
        "outputId": "f5aedadd-f92c-4567-9ed5-9ffa64b625d8"
      },
      "source": [
        "np.random.seed(1)\r\n",
        "A_prev = np.random.randn(10,5,7,4)\r\n",
        "W = np.random.randn(3,3,4,8)\r\n",
        "b = np.random.randn(1,1,1,8)\r\n",
        "hparameters = {\"pad\" : 1,\r\n",
        "               \"stride\": 2}\r\n",
        "\r\n",
        "Z, cache_conv = conv_forward(A_prev, W, b, hparameters)\r\n",
        "print(\"Z's mean =\\n\", np.mean(Z))\r\n",
        "print(\"Z[3,2,1] =\\n\", Z[3,2,1])\r\n",
        "print(\"cache_conv[0][1][2][3] =\\n\", cache_conv[0][1][2][3])"
      ],
      "execution_count": 8,
      "outputs": [
        {
          "output_type": "stream",
          "text": [
            "Z's mean =\n",
            " 0.6923608807576933\n",
            "Z[3,2,1] =\n",
            " [-1.28912231  2.27650251  6.61941931  0.95527176  8.25132576  2.31329639\n",
            " 13.00689405  2.34576051]\n",
            "cache_conv[0][1][2][3] =\n",
            " [-1.1191154   1.9560789  -0.3264995  -1.34267579]\n"
          ],
          "name": "stdout"
        }
      ]
    },
    {
      "cell_type": "markdown",
      "metadata": {
        "id": "H-U2fzcRjkNJ"
      },
      "source": [
        "## Pooling layer"
      ]
    },
    {
      "cell_type": "code",
      "metadata": {
        "id": "ERGCVcOrjpEZ"
      },
      "source": [
        "def pool_forward(A_prev, hparameters, mode = \"max\"):\r\n",
        "    \"\"\"\r\n",
        "    Implements the forward pass of the pooling layer\r\n",
        "    \r\n",
        "    Arguments:\r\n",
        "    A_prev -- Input data, numpy array of shape (m, n_H_prev, n_W_prev, n_C_prev)\r\n",
        "    hparameters -- python dictionary containing \"f\" and \"stride\"\r\n",
        "    mode -- the pooling mode you would like to use, defined as a string (\"max\" or \"average\")\r\n",
        "    \r\n",
        "    Returns:\r\n",
        "    A -- output of the pool layer, a numpy array of shape (m, n_H, n_W, n_C)\r\n",
        "    cache -- cache used in the backward pass of the pooling layer, contains the input and hparameters \r\n",
        "    \"\"\"\r\n",
        "    \r\n",
        "    # Retrieve dimensions from the input shape\r\n",
        "    (m, n_H_prev, n_W_prev, n_C_prev) = A_prev.shape\r\n",
        "    \r\n",
        "    # Retrieve hyperparameters from \"hparameters\"\r\n",
        "    f = hparameters[\"f\"]\r\n",
        "    stride = hparameters[\"stride\"]\r\n",
        "    \r\n",
        "    # Define the dimensions of the output\r\n",
        "    n_H = int(1 + (n_H_prev - f) / stride)\r\n",
        "    n_W = int(1 + (n_W_prev - f) / stride)\r\n",
        "    n_C = n_C_prev\r\n",
        "    \r\n",
        "    # Initialize output matrix A\r\n",
        "    A = np.zeros((m, n_H, n_W, n_C))    \r\n",
        "    for i in range(m):                           # loop over the training examples\r\n",
        "        for h in range(n_H):                     # loop on the vertical axis of the output volume\r\n",
        "            # Find the vertical start and end of the current \"slice\" \r\n",
        "            vert_start = h*stride\r\n",
        "            vert_end = h*stride+f\r\n",
        "            \r\n",
        "            for w in range(n_W):                 # loop on the horizontal axis of the output volume\r\n",
        "                # Find the vertical start and end of the current \"slice\" \r\n",
        "                horiz_start = w*stride\r\n",
        "                horiz_end = w*stride+f\r\n",
        "                \r\n",
        "                for c in range (n_C):            # loop over the channels of the output volume\r\n",
        "                    \r\n",
        "                    # Use the corners to define the current slice on the ith training example of A_prev, channel c. \r\n",
        "                    a_prev_slice = A_prev[i, vert_start:vert_end,horiz_start:horiz_end,c]\r\n",
        "                    \r\n",
        "                    # Compute the pooling operation on the slice. \r\n",
        "                    if mode == \"max\":\r\n",
        "                        A[i, h, w, c] = np.max(a_prev_slice)\r\n",
        "                    elif mode == \"average\":\r\n",
        "                        A[i, h, w, c] = np.average(a_prev_slice)\r\n",
        "\r\n",
        "    cache = (A_prev, hparameters)\r\n",
        "    assert(A.shape == (m, n_H, n_W, n_C))\r\n",
        "    \r\n",
        "    return A, cache"
      ],
      "execution_count": 9,
      "outputs": []
    },
    {
      "cell_type": "code",
      "metadata": {
        "colab": {
          "base_uri": "https://localhost:8080/"
        },
        "id": "nTfb_YWnj0ZF",
        "outputId": "7978a936-d6b8-44eb-c14b-baa4c21f773f"
      },
      "source": [
        "np.random.seed(1)\r\n",
        "A_prev = np.random.randn(2, 5, 5, 3)\r\n",
        "hparameters = {\"stride\" : 1, \"f\": 3}\r\n",
        "\r\n",
        "A, cache = pool_forward(A_prev, hparameters)\r\n",
        "print(\"mode = max\")\r\n",
        "print(\"A.shape = \" + str(A.shape))\r\n",
        "print(\"A =\\n\", A)\r\n",
        "print()\r\n",
        "A, cache = pool_forward(A_prev, hparameters, mode = \"average\")\r\n",
        "print(\"mode = average\")\r\n",
        "print(\"A.shape = \" + str(A.shape))\r\n",
        "print(\"A =\\n\", A)"
      ],
      "execution_count": 10,
      "outputs": [
        {
          "output_type": "stream",
          "text": [
            "mode = max\n",
            "A.shape = (2, 3, 3, 3)\n",
            "A =\n",
            " [[[[1.74481176 0.90159072 1.65980218]\n",
            "   [1.74481176 1.46210794 1.65980218]\n",
            "   [1.74481176 1.6924546  1.65980218]]\n",
            "\n",
            "  [[1.14472371 0.90159072 2.10025514]\n",
            "   [1.14472371 0.90159072 1.65980218]\n",
            "   [1.14472371 1.6924546  1.65980218]]\n",
            "\n",
            "  [[1.13162939 1.51981682 2.18557541]\n",
            "   [1.13162939 1.51981682 2.18557541]\n",
            "   [1.13162939 1.6924546  2.18557541]]]\n",
            "\n",
            "\n",
            " [[[1.19891788 0.84616065 0.82797464]\n",
            "   [0.69803203 0.84616065 1.2245077 ]\n",
            "   [0.69803203 1.12141771 1.2245077 ]]\n",
            "\n",
            "  [[1.96710175 0.84616065 1.27375593]\n",
            "   [1.96710175 0.84616065 1.23616403]\n",
            "   [1.62765075 1.12141771 1.2245077 ]]\n",
            "\n",
            "  [[1.96710175 0.86888616 1.27375593]\n",
            "   [1.96710175 0.86888616 1.23616403]\n",
            "   [1.62765075 1.12141771 0.79280687]]]]\n",
            "\n",
            "mode = average\n",
            "A.shape = (2, 3, 3, 3)\n",
            "A =\n",
            " [[[[-3.01046719e-02 -3.24021315e-03 -3.36298859e-01]\n",
            "   [ 1.43310483e-01  1.93146751e-01 -4.44905196e-01]\n",
            "   [ 1.28934436e-01  2.22428468e-01  1.25067597e-01]]\n",
            "\n",
            "  [[-3.81801899e-01  1.59993515e-02  1.70562706e-01]\n",
            "   [ 4.73707165e-02  2.59244658e-02  9.20338402e-02]\n",
            "   [ 3.97048605e-02  1.57189094e-01  3.45302489e-01]]\n",
            "\n",
            "  [[-3.82680519e-01  2.32579951e-01  6.25997903e-01]\n",
            "   [-2.47157416e-01 -3.48524998e-04  3.50539717e-01]\n",
            "   [-9.52551510e-02  2.68511000e-01  4.66056368e-01]]]\n",
            "\n",
            "\n",
            " [[[-1.73134159e-01  3.23771981e-01 -3.43175716e-01]\n",
            "   [ 3.80634669e-02  7.26706274e-02 -2.30268958e-01]\n",
            "   [ 2.03009393e-02  1.41414785e-01 -1.23158476e-02]]\n",
            "\n",
            "  [[ 4.44976963e-01 -2.61694592e-03 -3.10403073e-01]\n",
            "   [ 5.08114737e-01 -2.34937338e-01 -2.39611830e-01]\n",
            "   [ 1.18726772e-01  1.72552294e-01 -2.21121966e-01]]\n",
            "\n",
            "  [[ 4.29449255e-01  8.44699612e-02 -2.72909051e-01]\n",
            "   [ 6.76351685e-01 -1.20138225e-01 -2.44076712e-01]\n",
            "   [ 1.50774518e-01  2.89111751e-01  1.23238536e-03]]]]\n"
          ],
          "name": "stdout"
        }
      ]
    },
    {
      "cell_type": "code",
      "metadata": {
        "colab": {
          "base_uri": "https://localhost:8080/"
        },
        "id": "8EFci1Pij16Z",
        "outputId": "dfa122e2-0289-4861-d69d-5460cff3f7b4"
      },
      "source": [
        "np.random.seed(1)\r\n",
        "A_prev = np.random.randn(2, 5, 5, 3)\r\n",
        "hparameters = {\"stride\" : 2, \"f\": 3}\r\n",
        "\r\n",
        "A, cache = pool_forward(A_prev, hparameters)\r\n",
        "print(\"mode = max\")\r\n",
        "print(\"A.shape = \" + str(A.shape))\r\n",
        "print(\"A =\\n\", A)\r\n",
        "print()\r\n",
        "\r\n",
        "A, cache = pool_forward(A_prev, hparameters, mode = \"average\")\r\n",
        "print(\"mode = average\")\r\n",
        "print(\"A.shape = \" + str(A.shape))\r\n",
        "print(\"A =\\n\", A)"
      ],
      "execution_count": 11,
      "outputs": [
        {
          "output_type": "stream",
          "text": [
            "mode = max\n",
            "A.shape = (2, 2, 2, 3)\n",
            "A =\n",
            " [[[[1.74481176 0.90159072 1.65980218]\n",
            "   [1.74481176 1.6924546  1.65980218]]\n",
            "\n",
            "  [[1.13162939 1.51981682 2.18557541]\n",
            "   [1.13162939 1.6924546  2.18557541]]]\n",
            "\n",
            "\n",
            " [[[1.19891788 0.84616065 0.82797464]\n",
            "   [0.69803203 1.12141771 1.2245077 ]]\n",
            "\n",
            "  [[1.96710175 0.86888616 1.27375593]\n",
            "   [1.62765075 1.12141771 0.79280687]]]]\n",
            "\n",
            "mode = average\n",
            "A.shape = (2, 2, 2, 3)\n",
            "A =\n",
            " [[[[-0.03010467 -0.00324021 -0.33629886]\n",
            "   [ 0.12893444  0.22242847  0.1250676 ]]\n",
            "\n",
            "  [[-0.38268052  0.23257995  0.6259979 ]\n",
            "   [-0.09525515  0.268511    0.46605637]]]\n",
            "\n",
            "\n",
            " [[[-0.17313416  0.32377198 -0.34317572]\n",
            "   [ 0.02030094  0.14141479 -0.01231585]]\n",
            "\n",
            "  [[ 0.42944926  0.08446996 -0.27290905]\n",
            "   [ 0.15077452  0.28911175  0.00123239]]]]\n"
          ],
          "name": "stdout"
        }
      ]
    },
    {
      "cell_type": "markdown",
      "metadata": {
        "id": "HJGbKN_Mj5ok"
      },
      "source": [
        "##Backpropagation in convolutional neural"
      ]
    },
    {
      "cell_type": "code",
      "metadata": {
        "id": "wXtIpSiwkAaY"
      },
      "source": [
        "def conv_backward(dZ, cache):\r\n",
        "    \"\"\"\r\n",
        "    Implement the backward propagation for a convolution function\r\n",
        "    \r\n",
        "    Arguments:\r\n",
        "    dZ -- gradient of the cost with respect to the output of the conv layer (Z), numpy array of shape (m, n_H, n_W, n_C)\r\n",
        "    cache -- cache of values needed for the conv_backward(), output of conv_forward()\r\n",
        "    \r\n",
        "    Returns:\r\n",
        "    dA_prev -- gradient of the cost with respect to the input of the conv layer (A_prev),\r\n",
        "               numpy array of shape (m, n_H_prev, n_W_prev, n_C_prev)\r\n",
        "    dW -- gradient of the cost with respect to the weights of the conv layer (W)\r\n",
        "          numpy array of shape (f, f, n_C_prev, n_C)\r\n",
        "    db -- gradient of the cost with respect to the biases of the conv layer (b)\r\n",
        "          numpy array of shape (1, 1, 1, n_C)\r\n",
        "    \"\"\"\r\n",
        "  \r\n",
        "    # Retrieve information from \"cache\"\r\n",
        "    (A_prev, W, b, hparameters) = cache\r\n",
        "    \r\n",
        "    # Retrieve dimensions from A_prev's shape\r\n",
        "    (m, n_H_prev, n_W_prev, n_C_prev) = A_prev.shape\r\n",
        "    \r\n",
        "    # Retrieve dimensions from W's shape\r\n",
        "    (f, f, n_C_prev, n_C) = W.shape\r\n",
        "    \r\n",
        "    # Retrieve information from \"hparameters\"\r\n",
        "    stride = hparameters['stride']\r\n",
        "    pad = hparameters['pad']\r\n",
        "    \r\n",
        "    # Retrieve dimensions from dZ's shape\r\n",
        "    (m, n_H, n_W, n_C) = dZ.shape\r\n",
        "    \r\n",
        "    # Initialize dA_prev, dW, db with the correct shapes\r\n",
        "    dA_prev = np.random.randn(m, n_H_prev,n_W_prev, n_C_prev)                           \r\n",
        "    dW = np.random.randn(f,f,n_C_prev,n_C)\r\n",
        "    db = np.random.randn(f,f,n_C_prev,n_C)\r\n",
        "\r\n",
        "    # Pad A_prev and dA_prev\r\n",
        "    A_prev_pad = zero_pad(A_prev, pad=pad)\r\n",
        "    dA_prev_pad = zero_pad(dA_prev, pad=pad)\r\n",
        "    \r\n",
        "    for i in range(m):                       # loop over the training examples\r\n",
        "        \r\n",
        "        # select ith training example from A_prev_pad and dA_prev_pad\r\n",
        "        a_prev_pad = A_prev_pad[i]\r\n",
        "        da_prev_pad = dA_prev_pad[i]\r\n",
        "        \r\n",
        "        for h in range(n_H):                   # loop over vertical axis of the output volume\r\n",
        "            for w in range(n_W):               # loop over horizontal axis of the output volume\r\n",
        "                for c in range(n_C):           # loop over the channels of the output volume\r\n",
        "                    \r\n",
        "                    # Find the corners of the current \"slice\"\r\n",
        "                    vert_start = stride*h\r\n",
        "                    vert_end = stride*h+f\r\n",
        "                    horiz_start = stride*w\r\n",
        "                    horiz_end = stride*w+f\r\n",
        "                    \r\n",
        "                    # Use the corners to define the slice from a_prev_pad\r\n",
        "                    a_slice = a_prev_pad[vert_start:vert_end,horiz_start:horiz_end,:]\r\n",
        "\r\n",
        "                    # Update gradients for the window and the filter's parameters using the code formulas given above\r\n",
        "                    da_prev_pad[vert_start:vert_end, horiz_start:horiz_end, :] += W[:,:,:,c]*dZ[i,h,w,c]\r\n",
        "                    dW[:,:,:,c] += a_slice*dZ[i,h,w,c]\r\n",
        "                    db[:,:,:,c] += dZ[i,h,w,c]\r\n",
        "                    \r\n",
        "        dA_prev[i, :, :, :] = da_prev_pad[pad:-pad,pad:-pad,:]\r\n",
        "    \r\n",
        "    assert(dA_prev.shape == (m, n_H_prev, n_W_prev, n_C_prev))\r\n",
        "    \r\n",
        "    return dA_prev, dW, db"
      ],
      "execution_count": 12,
      "outputs": []
    },
    {
      "cell_type": "code",
      "metadata": {
        "colab": {
          "base_uri": "https://localhost:8080/"
        },
        "id": "13aNXo2TkDJT",
        "outputId": "133226b4-a712-45e0-b29c-155180eee9be"
      },
      "source": [
        "np.random.seed(1)\r\n",
        "A_prev = np.random.randn(10,4,4,3)\r\n",
        "W = np.random.randn(2,2,3,8)\r\n",
        "b = np.random.randn(1,1,1,8)\r\n",
        "hparameters = {\"pad\" : 2,\r\n",
        "               \"stride\": 2}\r\n",
        "Z, cache_conv = conv_forward(A_prev, W, b, hparameters)\r\n",
        "\r\n",
        "dA, dW, db = conv_backward(Z, cache_conv)\r\n",
        "print(\"dA_mean =\", np.mean(dA))\r\n",
        "print(\"dW_mean =\", np.mean(dW))\r\n",
        "print(\"db_mean =\", np.mean(db))\r\n",
        "print(dA.shape)\r\n",
        "print(dW.shape)\r\n",
        "print(db.shape)"
      ],
      "execution_count": 13,
      "outputs": [
        {
          "output_type": "stream",
          "text": [
            "dA_mean = 1.457943469708148\n",
            "dW_mean = 1.7519334429380524\n",
            "db_mean = 7.882856704391539\n",
            "(10, 4, 4, 3)\n",
            "(2, 2, 3, 8)\n",
            "(2, 2, 3, 8)\n"
          ],
          "name": "stdout"
        }
      ]
    },
    {
      "cell_type": "markdown",
      "metadata": {
        "id": "1LDzKCRakN22"
      },
      "source": [
        "##Pooling layer - backward pass"
      ]
    },
    {
      "cell_type": "code",
      "metadata": {
        "id": "VKmmuJq_kS5W"
      },
      "source": [
        "def create_mask_from_window(x):\r\n",
        "    \"\"\"\r\n",
        "    Creates a mask from an input matrix x, to identify the max entry of x.\r\n",
        "    \r\n",
        "    Arguments:\r\n",
        "    x -- Array of shape (f, f)\r\n",
        "    \r\n",
        "    Returns:\r\n",
        "    mask -- Array of the same shape as window, contains a True at the position corresponding to the max entry of x.\r\n",
        "    \"\"\"\r\n",
        "    \r\n",
        "    mask = (x==np.max(x))\r\n",
        "    \r\n",
        "    return mask"
      ],
      "execution_count": 14,
      "outputs": []
    },
    {
      "cell_type": "code",
      "metadata": {
        "colab": {
          "base_uri": "https://localhost:8080/"
        },
        "id": "33pixwcckWPa",
        "outputId": "668edb79-b3bf-4088-c4bd-6890fa406585"
      },
      "source": [
        "np.random.seed(1)\r\n",
        "x = np.random.randn(2,3)\r\n",
        "mask = create_mask_from_window(x)\r\n",
        "print('x = ', x)\r\n",
        "print(\"mask = \", mask)"
      ],
      "execution_count": 15,
      "outputs": [
        {
          "output_type": "stream",
          "text": [
            "x =  [[ 1.62434536 -0.61175641 -0.52817175]\n",
            " [-1.07296862  0.86540763 -2.3015387 ]]\n",
            "mask =  [[ True False False]\n",
            " [False False False]]\n"
          ],
          "name": "stdout"
        }
      ]
    },
    {
      "cell_type": "markdown",
      "metadata": {
        "id": "7FgQhbRgkXZ4"
      },
      "source": [
        "##Average pooling - backward pass"
      ]
    },
    {
      "cell_type": "code",
      "metadata": {
        "id": "WIrzP6VDkcaV"
      },
      "source": [
        "def distribute_value(dz, shape):\r\n",
        "    \"\"\"\r\n",
        "    Distributes the input value in the matrix of dimension shape\r\n",
        "    \r\n",
        "    Arguments:\r\n",
        "    dz -- input scalar\r\n",
        "    shape -- the shape (n_H, n_W) of the output matrix for which we want to distribute the value of dz\r\n",
        "    \r\n",
        "    Returns:\r\n",
        "    a -- Array of size (n_H, n_W) for which we distributed the value of dz\r\n",
        "    \"\"\"\r\n",
        "    \r\n",
        "    # Retrieve dimensions from shape \r\n",
        "    (n_H, n_W) = shape\r\n",
        "    \r\n",
        "    # Compute the value to distribute on the matrix \r\n",
        "    average = dz/(n_H*n_W)\r\n",
        "    \r\n",
        "    # Create a matrix where every entry is the \"average\" value \r\n",
        "    a = np.ones((n_H,n_W))*average\r\n",
        "    \r\n",
        "    return a"
      ],
      "execution_count": 16,
      "outputs": []
    },
    {
      "cell_type": "code",
      "metadata": {
        "colab": {
          "base_uri": "https://localhost:8080/"
        },
        "id": "L1LubDFUkg0Z",
        "outputId": "e96db9c3-ff1a-4746-f5d5-5e912ee36948"
      },
      "source": [
        "a = distribute_value(2, (2,2))\r\n",
        "print('distributed value =', a)"
      ],
      "execution_count": 17,
      "outputs": [
        {
          "output_type": "stream",
          "text": [
            "distributed value = [[0.5 0.5]\n",
            " [0.5 0.5]]\n"
          ],
          "name": "stdout"
        }
      ]
    },
    {
      "cell_type": "markdown",
      "metadata": {
        "id": "1Ngh_bBwkhTW"
      },
      "source": [
        "##Putting it together: Pooling backward"
      ]
    },
    {
      "cell_type": "code",
      "metadata": {
        "id": "FuQE3x7okk6O"
      },
      "source": [
        "def pool_backward(dA, cache, mode = \"max\"):\r\n",
        "    \"\"\"\r\n",
        "    Implements the backward pass of the pooling layer\r\n",
        "    \r\n",
        "    Arguments:\r\n",
        "    dA -- gradient of cost with respect to the output of the pooling layer, same shape as A\r\n",
        "    cache -- cache output from the forward pass of the pooling layer, contains the layer's input and hparameters \r\n",
        "    mode -- the pooling mode you would like to use, defined as a string (\"max\" or \"average\")\r\n",
        "    \r\n",
        "    Returns:\r\n",
        "    dA_prev -- gradient of cost with respect to the input of the pooling layer, same shape as A_prev\r\n",
        "    \"\"\"\r\n",
        "    \r\n",
        "    # Retrieve information from cache \r\n",
        "    (A_prev, hparameters) = cache\r\n",
        "    \r\n",
        "    # Retrieve hyperparameters from \"hparameters\" \r\n",
        "    stride = hparameters['stride']\r\n",
        "    f = hparameters['f']\r\n",
        "    \r\n",
        "    # Retrieve dimensions from A_prev's shape and dA's shape \r\n",
        "    m, n_H_prev, n_W_prev, n_C_prev = A_prev.shape\r\n",
        "    m, n_H, n_W, n_C = dA.shape\r\n",
        "    \r\n",
        "    # Initialize dA_prev with zeros \r\n",
        "    dA_prev = np.zeros(A_prev.shape)\r\n",
        "    \r\n",
        "    for i in range(m):                       # loop over the training examples\r\n",
        "        \r\n",
        "        # select training example from A_prev \r\n",
        "        a_prev = A_prev[i]\r\n",
        "        \r\n",
        "        for h in range(n_H):                   # loop on the vertical axis\r\n",
        "            for w in range(n_W):               # loop on the horizontal axis\r\n",
        "                for c in range(n_C):           # loop over the channels (depth)\r\n",
        "                    \r\n",
        "                    # Find the corners of the current \"slice\" \r\n",
        "                    vert_start = h*stride\r\n",
        "                    vert_end = h*stride+f\r\n",
        "                    horiz_start = w*stride\r\n",
        "                    horiz_end = w*stride+f\r\n",
        "                    \r\n",
        "                    # Compute the backward propagation in both modes.\r\n",
        "                    if mode == \"max\":\r\n",
        "                        \r\n",
        "                        # Use the corners and \"c\" to define the current slice from a_prev \r\n",
        "                        a_prev_slice = a_prev[vert_start:vert_end,horiz_start:horiz_end,c]\r\n",
        "                        # Create the mask from a_prev_slice \r\n",
        "                        mask = create_mask_from_window(a_prev_slice)\r\n",
        "                        # Set dA_prev to be dA_prev + (the mask multiplied by the correct entry of dA) \r\n",
        "                        dA_prev[i, vert_start: vert_end, horiz_start: horiz_end, c] += dA[i,h,w,c]*mask\r\n",
        "                        \r\n",
        "                    elif mode == \"average\":\r\n",
        "                        \r\n",
        "                        # Get the value a from dA \r\n",
        "                        da = dA[i,h,w,c]\r\n",
        "                        # Define the shape of the filter as fxf \r\n",
        "                        shape = (f,f)\r\n",
        "                        # Distribute it to get the correct slice of dA_prev. i.e. Add the distributed value of da. \r\n",
        "                        dA_prev[i, vert_start: vert_end, horiz_start: horiz_end, c] += distribute_value(da,shape)\r\n",
        "                        \r\n",
        "    assert(dA_prev.shape == A_prev.shape)\r\n",
        "    \r\n",
        "    return dA_prev"
      ],
      "execution_count": 18,
      "outputs": []
    },
    {
      "cell_type": "code",
      "metadata": {
        "colab": {
          "base_uri": "https://localhost:8080/"
        },
        "id": "VA0iQ86Sk1iu",
        "outputId": "86e5a331-6ae3-4225-d2d9-86129085555f"
      },
      "source": [
        "np.random.seed(1)\r\n",
        "A_prev = np.random.randn(5, 5, 3, 2)\r\n",
        "hparameters = {\"stride\" : 1, \"f\": 2}\r\n",
        "A, cache = pool_forward(A_prev, hparameters)\r\n",
        "dA = np.random.randn(5, 4, 2, 2)\r\n",
        "\r\n",
        "dA_prev = pool_backward(dA, cache, mode = \"max\")\r\n",
        "print(\"mode = max\")\r\n",
        "print('mean of dA = ', np.mean(dA))\r\n",
        "print('dA_prev[1,1] = ', dA_prev[1,1])  \r\n",
        "print()\r\n",
        "dA_prev = pool_backward(dA, cache, mode = \"average\")\r\n",
        "print(\"mode = average\")\r\n",
        "print('mean of dA = ', np.mean(dA))\r\n",
        "print('dA_prev[1,1] = ', dA_prev[1,1]) "
      ],
      "execution_count": 19,
      "outputs": [
        {
          "output_type": "stream",
          "text": [
            "mode = max\n",
            "mean of dA =  0.14571390272918056\n",
            "dA_prev[1,1] =  [[ 0.          0.        ]\n",
            " [ 5.05844394 -1.68282702]\n",
            " [ 0.          0.        ]]\n",
            "\n",
            "mode = average\n",
            "mean of dA =  0.14571390272918056\n",
            "dA_prev[1,1] =  [[ 0.08485462  0.2787552 ]\n",
            " [ 1.26461098 -0.25749373]\n",
            " [ 1.17975636 -0.53624893]]\n"
          ],
          "name": "stdout"
        }
      ]
    },
    {
      "cell_type": "code",
      "metadata": {
        "id": "iwzNQEKAk3Ri"
      },
      "source": [
        ""
      ],
      "execution_count": null,
      "outputs": []
    }
  ]
}